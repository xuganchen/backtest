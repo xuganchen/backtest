{
 "cells": [
  {
   "cell_type": "code",
   "execution_count": null,
   "metadata": {},
   "outputs": [],
   "source": [
    "import numpy as np\n",
    "import pandas as pd\n",
    "import queue\n",
    "import matplotlib.pyplot as plt\n",
    "\n",
    "import sys\n",
    "backtest_dir = 'C://backtest/backtest/'\n",
    "if backtest_dir not in sys.path:\n",
    "    sys.path.insert(0, backtest_dir)\n",
    "    \n",
    "from Backtest import *\n",
    "from BayesianOptimization import *\n",
    "from ADX_EMVStrategy import ADX_EMVStrategy\n",
    "from Backtest.open_json_gz_files import open_json_gz_files\n",
    "from Backtest.generate_bars import generate_bars"
   ]
  },
  {
   "cell_type": "code",
   "execution_count": null,
   "metadata": {},
   "outputs": [],
   "source": [
    "def run_backtest(config, trading_data, ohlc_data, window_ADX = 10, window_EMV=40, n=10, m=10):\n",
    "    window_ADX = int(window_ADX)\n",
    "    window_EMV = int(window_EMV)\n",
    "    n = int(n)\n",
    "    m = int(m)\n",
    "    config['title'] = \"ADX_EMVStrategy\" + \"_\" + str(window_ADX) + \"_\" + str(window_EMV) + \"_\" + str(n) + \"_\" + str(m)\n",
    "    print(\"---------------------------------\")\n",
    "    print(config['title'])\n",
    "    print(\"---------------------------------\")\n",
    "    \n",
    "    events_queue = queue.Queue()\n",
    "\n",
    "    data_handler = OHLCDataHandler(\n",
    "        config, events_queue,\n",
    "        trading_data = trading_data, ohlc_data = ohlc_data\n",
    "    )\n",
    "    strategy = ADX_EMVStrategy(config, events_queue, data_handler,\n",
    "                           window_ADX = window_ADX,\n",
    "                           window_EMV=window_EMV, n=n, m=m)\n",
    "\n",
    "    backtest = Backtest(config, events_queue, strategy,\n",
    "                        data_handler= data_handler)\n",
    "\n",
    "    results = backtest.start_trading()\n",
    "    \n",
    "    return (results['cum_returns'][-1] - 1)"
   ]
  },
  {
   "cell_type": "markdown",
   "metadata": {},
   "source": [
    "## Setting"
   ]
  },
  {
   "cell_type": "code",
   "execution_count": null,
   "metadata": {},
   "outputs": [],
   "source": [
    "config = {\n",
    "    \"csv_dir\": \"C:/backtest/Binance\",\n",
    "    \"out_dir\": \"C:/backtest/results/ADX_EMVStrategy\",\n",
    "    \"title\": \"ADX_EMVStrategy\",\n",
    "    \"is_plot\": False,\n",
    "    \"save_plot\": False,\n",
    "    \"save_tradelog\": False,\n",
    "    \"start_date\": pd.Timestamp(\"2017-07-01T00:0:00\", freq = \"60\" + \"T\"),    # str(freq) + \"T\"\n",
    "    \"end_date\": pd.Timestamp(\"2018-04-01T00:00:00\", freq = \"60\" + \"T\"),\n",
    "    \"equity\": 1.0,\n",
    "    \"freq\": 60,      # min\n",
    "    \"commission_ratio\": 0.001,\n",
    "    \"suggested_quantity\": None,     # None or a value\n",
    "    \"max_quantity\": None,           # None or a value, Maximum purchase quantity\n",
    "    \"min_quantity\": None,           # None or a value, Minimum purchase quantity\n",
    "    \"min_handheld_cash\": None,      # None or a value, Minimum handheld funds\n",
    "    \"exchange\": \"Binance\",\n",
    "    \"tickers\": ['BTCUSDT']\n",
    "}"
   ]
  },
  {
   "cell_type": "code",
   "execution_count": null,
   "metadata": {},
   "outputs": [],
   "source": [
    "# trading_data = {}\n",
    "# for ticker in config['tickers']:\n",
    "#     # trading_data[ticker] = open_gz_files(config['csv_dir'], ticker)\n",
    "#     trading_data[ticker] = pd.read_hdf(config['csv_dir'] + '\\\\' + ticker + '.h5', key=ticker)\n",
    "\n",
    "ohlc_data = {}\n",
    "for ticker in config['tickers']:\n",
    "    # ohlc_data[ticker] = generate_bars(trading_data, ticker, config['freq'])\n",
    "    ohlc_data[ticker] = pd.read_hdf(config['csv_dir'] + '\\\\' + ticker +'_OHLC_60min.h5', key=ticker)\n",
    "\n",
    "trading_data = None"
   ]
  },
  {
   "cell_type": "code",
   "execution_count": null,
   "metadata": {},
   "outputs": [],
   "source": [
    "gp_params = {\"alpha\": 1e-5}"
   ]
  },
  {
   "cell_type": "markdown",
   "metadata": {},
   "source": [
    "## Acquisition Function \"Upper Confidence Bound\"\n",
    "* Prefer exploitation (kappa=1.0)\n",
    "\n",
    "* Prefer exploration (kappa=10)\n"
   ]
  },
  {
   "cell_type": "markdown",
   "metadata": {},
   "source": [
    "## Acquisition Function \"Expected Improvement\"\n",
    "* Prefer exploitation (xi=1e-4)\n",
    "* Prefer exploration (xi=0.1)"
   ]
  },
  {
   "cell_type": "code",
   "execution_count": null,
   "metadata": {},
   "outputs": [],
   "source": [
    "BO = BayesianOptimization(\n",
    "    run_backtest,\n",
    "    {'window_ADX': (1, 240),\n",
    "    'window_EMV': (1, 120),\n",
    "    'n': (1, 120),\n",
    "    'm': (1, 120)},\n",
    "    is_int = [1, 1, 1, 1], \n",
    "    invariant = {\n",
    "        'config': config,\n",
    "        'trading_data': trading_data,\n",
    "        'ohlc_data': ohlc_data\n",
    "    },\n",
    "    random_state = 1\n",
    ")\n",
    "# BO.explore({\n",
    "#     'short_window': np.arange(1, 120, 20),\n",
    "#     'delta_window': np.arange(1, 120, 20)\n",
    "#     },\n",
    "#     eager=True)\n",
    "BO.maximize(init_points=50, n_iter=100, acq=\"ei\", xi=0.01, **gp_params)"
   ]
  },
  {
   "cell_type": "code",
   "execution_count": null,
   "metadata": {},
   "outputs": [],
   "source": [
    "print(BO.res['max'])"
   ]
  },
  {
   "cell_type": "code",
   "execution_count": null,
   "metadata": {},
   "outputs": [],
   "source": [
    "BO.maximize(init_points=0, n_iter=110, acq=\"ei\", xi=0.0001, **gp_params)"
   ]
  },
  {
   "cell_type": "code",
   "execution_count": null,
   "metadata": {},
   "outputs": [],
   "source": [
    "print(BO.res['max'])"
   ]
  },
  {
   "cell_type": "code",
   "execution_count": null,
   "metadata": {},
   "outputs": [],
   "source": [
    "Target = pd.DataFrame({'Parameters': BO.X.tolist(), 'Target': BO.Y})\n",
    "# Target.to_csv(config['out_dir'] + \"/target_ei.csv\")\n",
    "Target.sort_values(by = \"Target\")"
   ]
  },
  {
   "cell_type": "code",
   "execution_count": null,
   "metadata": {},
   "outputs": [],
   "source": [
    "f, ax = plt.subplots(2,2, figsize = (16, 16))\n",
    "ax[0,0].scatter(BO.X[:,0].flatten(), BO.Y, c=\"red\", s=10, zorder=10)\n",
    "ax[0,0].set_title('$val$ $vs$ $short\\_window$ ', fontsize=18)\n",
    "ax[0,0].set_xlabel('$short\\_window$', fontsize=16)\n",
    "ax[0,0].set_ylabel('$val$', fontsize=16)\n",
    "ax[0,0].hlines(0, 0, 120, color='black',linestyle=\"--\")\n",
    "ax[0,0].hlines(-1, 0, 120, color='black',linestyle=\"--\")\n",
    "ax[0,0].hlines(1, 0, 120, color='black',linestyle=\"--\")\n",
    "ax[0,0].vlines(BO.res['max']['max_params']['short_window'], -1.2, 2, color='blue',linestyle=\"--\")\n",
    "\n",
    "ax[0,1].scatter(BO.X[:,1].flatten() + BO.X[:,0].flatten(), BO.Y, c=\"red\", s=10, zorder=10)\n",
    "ax[0,1].set_title('$val$ $vs$ $long\\_window$ ', fontsize=18)\n",
    "ax[0,1].set_xlabel('$long\\_window$', fontsize=16)\n",
    "ax[0,1].set_ylabel('$val$', fontsize=16)\n",
    "ax[0,1].hlines(0, 0, 240,color='black',linestyle=\"--\")\n",
    "ax[0,1].hlines(-1, 0, 240, color='black',linestyle=\"--\")\n",
    "ax[0,1].hlines(1, 0, 240,color='black',linestyle=\"--\")\n",
    "ax[0,1].vlines(BO.res['max']['max_params']['delta_window'] + BO.res['max']['max_params']['short_window'],\n",
    "               -1.2, 2, color='blue',linestyle=\"--\")\n",
    "\n",
    "ax[1,0].scatter(BO.X[:,2].flatten(), BO.Y, c=\"red\", s=10, zorder=10)\n",
    "ax[1,0].set_title('$val$ $vs$ $window$ ', fontsize=18)\n",
    "ax[1,0].set_xlabel('$window$', fontsize=16)\n",
    "ax[1,0].set_ylabel('$val$', fontsize=16)\n",
    "ax[1,0].hlines(0, 0, 240,color='black',linestyle=\"--\")\n",
    "ax[1,0].hlines(-1, 0, 240, color='black',linestyle=\"--\")\n",
    "ax[1,0].hlines(1, 0, 240,color='black',linestyle=\"--\")\n",
    "ax[1,0].vlines(BO.res['max']['max_params']['window'], -1.2, 2, color='blue',linestyle=\"--\")\n",
    "\n",
    "ax[1,1].scatter(BO.X[:,3].flatten(), BO.Y, c=\"red\", s=10, zorder=10)\n",
    "ax[1,1].set_title('$val$ $vs$ $a$ ', fontsize=18)\n",
    "ax[1,1].set_xlabel('$a$', fontsize=16)\n",
    "ax[1,1].set_ylabel('$val$', fontsize=16)\n",
    "ax[1,1].hlines(0, 0, 3,color='black',linestyle=\"--\")\n",
    "ax[1,1].hlines(-1, 0, 3, color='black',linestyle=\"--\")\n",
    "ax[1,1].hlines(1, 0, 3,color='black',linestyle=\"--\")\n",
    "ax[1,1].vlines(BO.res['max']['max_params']['a'], -1.2, 2, color='blue',linestyle=\"--\")"
   ]
  },
  {
   "cell_type": "code",
   "execution_count": null,
   "metadata": {},
   "outputs": [],
   "source": [
    "## Acquisition Function \"Probability of Improvement\""
   ]
  },
  {
   "cell_type": "code",
   "execution_count": null,
   "metadata": {},
   "outputs": [],
   "source": [
    "* Prefer exploitation (xi=1e-4)\n",
    "* Prefer exploration (xi=0.1)"
   ]
  },
  {
   "cell_type": "code",
   "execution_count": null,
   "metadata": {},
   "outputs": [],
   "source": []
  },
  {
   "cell_type": "code",
   "execution_count": null,
   "metadata": {},
   "outputs": [],
   "source": []
  },
  {
   "cell_type": "code",
   "execution_count": null,
   "metadata": {},
   "outputs": [],
   "source": []
  },
  {
   "cell_type": "code",
   "execution_count": null,
   "metadata": {},
   "outputs": [],
   "source": []
  }
 ],
 "metadata": {
  "kernelspec": {
   "display_name": "Python 3",
   "language": "python",
   "name": "python3"
  },
  "language_info": {
   "codemirror_mode": {
    "name": "ipython",
    "version": 3
   },
   "file_extension": ".py",
   "mimetype": "text/x-python",
   "name": "python",
   "nbconvert_exporter": "python",
   "pygments_lexer": "ipython3",
   "version": "3.6.5"
  }
 },
 "nbformat": 4,
 "nbformat_minor": 2
}
