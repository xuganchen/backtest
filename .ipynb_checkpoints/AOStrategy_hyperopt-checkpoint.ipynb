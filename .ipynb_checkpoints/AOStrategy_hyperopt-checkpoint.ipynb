{
 "cells": [
  {
   "cell_type": "code",
   "execution_count": 32,
   "metadata": {},
   "outputs": [],
   "source": [
    "import numpy as np\n",
    "import pandas as pd\n",
    "import queue\n",
    "import matplotlib.pyplot as plt\n",
    "\n",
    "import sys\n",
    "sys.path.insert(0, r'..')\n",
    "\n",
    "from Backtest import *\n",
    "from Backtest.data import OHLCDataHandler\n",
    "from AOStrategy import AOStrategy\n",
    "from Backtest.open_json_gz_files import open_json_gz_files\n",
    "from Backtest.generate_bars import generate_bars"
   ]
  },
  {
   "cell_type": "code",
   "execution_count": 33,
   "metadata": {},
   "outputs": [],
   "source": [
    "from hyperopt import fmin, tpe, hp, STATUS_OK, Trials\n",
    "import hyperopt.pyll.stochastic"
   ]
  },
  {
   "cell_type": "code",
   "execution_count": 34,
   "metadata": {},
   "outputs": [],
   "source": [
    "def run_backtest(config, trading_data, ohlc_data, window):\n",
    "    window = int(window)\n",
    "    config['title'] = \"AOStrategy\" + \"_\" + str(window)\n",
    "    print(\"---------------------------------\")\n",
    "    print(config['title'])\n",
    "    print(\"---------------------------------\")\n",
    "    \n",
    "    events_queue = queue.Queue()\n",
    "\n",
    "    data_handler = OHLCDataHandler(\n",
    "        config, events_queue,\n",
    "        trading_data = trading_data, ohlc_data = ohlc_data\n",
    "    )\n",
    "    strategy = AOStrategy(config, events_queue, data_handler,window = window)\n",
    "\n",
    "    backtest = Backtest(config, events_queue, strategy,\n",
    "                        data_handler= data_handler)\n",
    "\n",
    "    results = backtest.start_trading()\n",
    "    \n",
    "    # dict_ans = {\n",
    "    #     \"short_window\": [short_window],\n",
    "    #     \"long_window\": [long_window],\n",
    "    #     \"Sharpe Ratio\": [results['sharpe']],\n",
    "    #     \"Total Returns\": [(results['cum_returns'][-1] - 1)],\n",
    "    #     \"Max Drawdown\": [(results[\"max_drawdown\"] * 100.0)],\n",
    "    #     \"Max Drawdown Duration\": [(results['max_drawdown_duration'])],\n",
    "    #     \"Trades\": [results['trade_info']['trading_num']],\n",
    "    #     \"Trade Winning\": [results['trade_info']['win_pct']],\n",
    "    #     \"Average Trade\": [results['trade_info']['avg_trd_pct']],\n",
    "    #     \"Average Win\": [results['trade_info']['avg_win_pct']],\n",
    "    #     \"Average Loss\": [results['trade_info']['avg_loss_pct']],\n",
    "    #     \"Best Trade\": [results['trade_info']['max_win_pct']],\n",
    "    #     \"Worst Trade\": [results['trade_info']['max_loss_pct']],\n",
    "    #     \"Worst Trade Date\": [results['trade_info']['max_loss_dt']],\n",
    "    #     \"Avg Days in Trade\": [results['trade_info']['avg_dit']]\n",
    "    # }\n",
    "    # return pd.DataFrame(dict_ans)\n",
    "    return -1 * (results['cum_returns'][-1] - 1)"
   ]
  },
  {
   "cell_type": "code",
   "execution_count": 61,
   "metadata": {},
   "outputs": [],
   "source": [
    "def f(params):\n",
    "    config = {\n",
    "        \"csv_dir\": \"./Binance\",\n",
    "        \"out_dir\": \"./results/MACDStrategy\",\n",
    "        \"title\": \"AOStrategy\",\n",
    "        \"is_plot\": False,\n",
    "        \"save_plot\": False,\n",
    "        \"save_tradelog\": False,\n",
    "        \"start_date\": pd.Timestamp(\"2018-02-01T00:0:00\", freq = \"60\" + \"T\"),    # str(freq) + \"T\"\n",
    "        \"end_date\": pd.Timestamp(\"2018-06-01T00:00:00\", freq = \"60\" + \"T\"),\n",
    "        \"equity\": 1.0,\n",
    "        \"freq\": 60,      # min\n",
    "        \"commission_ratio\": 0.001,\n",
    "        \"suggested_quantity\": None,     # None or a value\n",
    "        \"max_quantity\": None,           # None or a value, Maximum purchase quantity\n",
    "        \"min_quantity\": None,           # None or a value, Minimum purchase quantity\n",
    "        \"min_handheld_cash\": None,      # None or a value, Minimum handheld funds\n",
    "        \"exchange\": \"Binance\",\n",
    "        \"tickers\": ['BTCUSDT']\n",
    "    }\n",
    "    # trading_data = {}\n",
    "    # for ticker in config['tickers']:\n",
    "    #     # trading_data[ticker] = open_gz_files(config['csv_dir'], ticker)\n",
    "    #     trading_data[ticker] = pd.read_hdf(config['csv_dir'] + '\\\\' + ticker + '.h5', key=ticker)\n",
    "\n",
    "    ohlc_data = {}\n",
    "    for ticker in config['tickers']:\n",
    "        # ohlc_data[ticker] = generate_bars(trading_data, ticker, config['freq'])\n",
    "        ohlc_data[ticker] = pd.read_hdf(config['csv_dir'] + '\\\\' + ticker + '_OHLC_30min.h5', key=ticker)\n",
    "\n",
    "    trading_data = None\n",
    "    \n",
    "    window = params['window']\n",
    "    val = run_backtest(config, trading_data, ohlc_data, window)\n",
    "    return {'loss': val, 'status': STATUS_OK}"
   ]
  },
  {
   "cell_type": "code",
   "execution_count": 62,
   "metadata": {},
   "outputs": [],
   "source": [
    "space = {\n",
    "    'window': hp.randint('window', 240),\n",
    "}"
   ]
  },
  {
   "cell_type": "code",
   "execution_count": 63,
   "metadata": {},
   "outputs": [],
   "source": [
    "# print(hyperopt.pyll.stochastic.sample(space))"
   ]
  },
  {
   "cell_type": "code",
   "execution_count": 64,
   "metadata": {},
   "outputs": [],
   "source": [
    "trials = Trials()"
   ]
  },
  {
   "cell_type": "code",
   "execution_count": 65,
   "metadata": {
    "scrolled": true
   },
   "outputs": [
    {
     "name": "stdout",
     "output_type": "stream",
     "text": [
      "---------------------------------\n",
      "AOStrategy_213\n",
      "---------------------------------\n",
      "Data Time Interval for BTCUSDT:\n",
      "\tStart Date\t: 2018-02-01 00:00:00\n",
      "\tEnd Date\t: 2018-06-01 00:00:00\n",
      "---------------------------------\n",
      "Running Backtest...\n",
      "---------------------------------\n",
      "---------------------------------\n",
      "Backtest complete.\n",
      "---------------------------------\n",
      "Sharpe Ratio: 2.2605301756\n",
      "Sortino Ratio: 8.4103922545\n",
      "Information Ratio: -5.5324744042\n",
      "Max Drawdown: 1.0000000000\n",
      "Max Drawdown Duration: 575400\n",
      "Total Returns: -1.0000000000\n",
      "Annualized Returns: -3.0416666667\n",
      "Compound Annual Growth Rate: -1.0000000000\n",
      "---------------------------------\n",
      "Trades: 24\n",
      "Trade Winning: 12.50%\n",
      "Average Trade: -57.30%\n",
      "Average Win: 114.89%\n",
      "Average Loss: -81.90%\n",
      "Best Trade: 227.14%\n",
      "Worst Trade: -99.55%\n",
      "Worst Trade Date: 1 days 18:00:00\n",
      "Avg Days in Trade: 2 days 11:21:15\n",
      "---------------------------------\n",
      "---------------------------------\n",
      "AOStrategy_63\n",
      "---------------------------------\n",
      "Data Time Interval for BTCUSDT:\n",
      "\tStart Date\t: 2018-02-01 00:00:00\n",
      "\tEnd Date\t: 2018-06-01 00:00:00\n",
      "---------------------------------\n",
      "Running Backtest...\n",
      "---------------------------------\n",
      "---------------------------------\n",
      "Backtest complete.\n",
      "---------------------------------\n",
      "Sharpe Ratio: -0.9986890751\n",
      "Sortino Ratio: -5.0082329850\n",
      "Information Ratio: -7.4305139876\n",
      "Max Drawdown: 1.0000000000\n",
      "Max Drawdown Duration: 575400\n",
      "Total Returns: -1.0000000000\n",
      "Annualized Returns: -3.0416666667\n",
      "Compound Annual Growth Rate: -1.0000000000\n",
      "---------------------------------\n",
      "Trades: 78\n",
      "Trade Winning: 19.23%\n",
      "Average Trade: -37.52%\n",
      "Average Win: 152.69%\n",
      "Average Loss: -82.80%\n",
      "Best Trade: 750.83%\n",
      "Worst Trade: -99.68%\n",
      "Worst Trade Date: 0 days 22:00:00\n",
      "Avg Days in Trade: 0 days 19:48:05\n",
      "---------------------------------\n",
      "---------------------------------\n",
      "AOStrategy_221\n",
      "---------------------------------\n",
      "Data Time Interval for BTCUSDT:\n",
      "\tStart Date\t: 2018-02-01 00:00:00\n",
      "\tEnd Date\t: 2018-06-01 00:00:00\n",
      "---------------------------------\n",
      "Running Backtest...\n",
      "---------------------------------\n",
      "---------------------------------\n",
      "Backtest complete.\n",
      "---------------------------------\n",
      "Sharpe Ratio: 2.4457806113\n",
      "Sortino Ratio: 9.3736263539\n",
      "Information Ratio: -5.2516790579\n",
      "Max Drawdown: 1.0000000000\n",
      "Max Drawdown Duration: 575400\n",
      "Total Returns: -1.0000000000\n",
      "Annualized Returns: -3.0416666667\n",
      "Compound Annual Growth Rate: -1.0000000000\n",
      "---------------------------------\n",
      "Trades: 23\n",
      "Trade Winning: 17.39%\n",
      "Average Trade: -39.87%\n",
      "Average Win: 184.61%\n",
      "Average Loss: -87.13%\n",
      "Best Trade: 426.58%\n",
      "Worst Trade: -99.55%\n",
      "Worst Trade Date: 1 days 18:00:00\n",
      "Avg Days in Trade: 2 days 14:01:18\n",
      "---------------------------------\n",
      "---------------------------------\n",
      "AOStrategy_117\n",
      "---------------------------------\n",
      "Data Time Interval for BTCUSDT:\n",
      "\tStart Date\t: 2018-02-01 00:00:00\n",
      "\tEnd Date\t: 2018-06-01 00:00:00\n",
      "---------------------------------\n",
      "Running Backtest...\n",
      "---------------------------------\n",
      "---------------------------------\n",
      "Backtest complete.\n",
      "---------------------------------\n",
      "Sharpe Ratio: 1.5527269864\n",
      "Sortino Ratio: 8.4731110087\n",
      "Information Ratio: -5.2523208418\n",
      "Max Drawdown: 1.0000000000\n",
      "Max Drawdown Duration: 575400\n",
      "Total Returns: -1.0000000000\n",
      "Annualized Returns: -3.0416666667\n",
      "Compound Annual Growth Rate: -1.0000000000\n",
      "---------------------------------\n",
      "Trades: 43\n",
      "Trade Winning: 16.28%\n",
      "Average Trade: -15.77%\n",
      "Average Win: 332.48%\n",
      "Average Loss: -83.48%\n",
      "Best Trade: 789.40%\n",
      "Worst Trade: -99.67%\n",
      "Worst Trade Date: 0 days 21:00:00\n",
      "Avg Days in Trade: 1 days 12:03:29\n",
      "---------------------------------\n",
      "---------------------------------\n",
      "AOStrategy_135\n",
      "---------------------------------\n",
      "Data Time Interval for BTCUSDT:\n",
      "\tStart Date\t: 2018-02-01 00:00:00\n",
      "\tEnd Date\t: 2018-06-01 00:00:00\n",
      "---------------------------------\n",
      "Running Backtest...\n",
      "---------------------------------\n",
      "---------------------------------\n",
      "Backtest complete.\n",
      "---------------------------------\n"
     ]
    },
    {
     "ename": "ValueError",
     "evalue": "No axis named 0 for object type <class 'pandas.core.series.Series'>",
     "output_type": "error",
     "traceback": [
      "\u001b[1;31m---------------------------------------------------------------------------\u001b[0m",
      "\u001b[1;31mValueError\u001b[0m                                Traceback (most recent call last)",
      "\u001b[1;32m<ipython-input-65-214ea1828431>\u001b[0m in \u001b[0;36m<module>\u001b[1;34m()\u001b[0m\n\u001b[1;32m----> 1\u001b[1;33m \u001b[0mbest\u001b[0m \u001b[1;33m=\u001b[0m \u001b[0mfmin\u001b[0m\u001b[1;33m(\u001b[0m\u001b[0mfn\u001b[0m\u001b[1;33m=\u001b[0m\u001b[0mf\u001b[0m\u001b[1;33m,\u001b[0m \u001b[0mspace\u001b[0m\u001b[1;33m=\u001b[0m\u001b[0mspace\u001b[0m\u001b[1;33m,\u001b[0m \u001b[0malgo\u001b[0m\u001b[1;33m=\u001b[0m\u001b[0mtpe\u001b[0m\u001b[1;33m.\u001b[0m\u001b[0msuggest\u001b[0m\u001b[1;33m,\u001b[0m \u001b[0mmax_evals\u001b[0m\u001b[1;33m=\u001b[0m\u001b[1;36m50\u001b[0m\u001b[1;33m,\u001b[0m \u001b[0mtrials\u001b[0m\u001b[1;33m=\u001b[0m\u001b[0mtrials\u001b[0m\u001b[1;33m)\u001b[0m\u001b[1;33m\u001b[0m\u001b[0m\n\u001b[0m",
      "\u001b[1;32md:\\dev\\python36\\lib\\site-packages\\hyperopt\\fmin.py\u001b[0m in \u001b[0;36mfmin\u001b[1;34m(fn, space, algo, max_evals, trials, rstate, allow_trials_fmin, pass_expr_memo_ctrl, catch_eval_exceptions, verbose, return_argmin, points_to_evaluate, max_queue_len)\u001b[0m\n\u001b[0;32m    365\u001b[0m             \u001b[0mverbose\u001b[0m\u001b[1;33m=\u001b[0m\u001b[0mverbose\u001b[0m\u001b[1;33m,\u001b[0m\u001b[1;33m\u001b[0m\u001b[0m\n\u001b[0;32m    366\u001b[0m             \u001b[0mcatch_eval_exceptions\u001b[0m\u001b[1;33m=\u001b[0m\u001b[0mcatch_eval_exceptions\u001b[0m\u001b[1;33m,\u001b[0m\u001b[1;33m\u001b[0m\u001b[0m\n\u001b[1;32m--> 367\u001b[1;33m             \u001b[0mreturn_argmin\u001b[0m\u001b[1;33m=\u001b[0m\u001b[0mreturn_argmin\u001b[0m\u001b[1;33m,\u001b[0m\u001b[1;33m\u001b[0m\u001b[0m\n\u001b[0m\u001b[0;32m    368\u001b[0m         )\n\u001b[0;32m    369\u001b[0m \u001b[1;33m\u001b[0m\u001b[0m\n",
      "\u001b[1;32md:\\dev\\python36\\lib\\site-packages\\hyperopt\\base.py\u001b[0m in \u001b[0;36mfmin\u001b[1;34m(self, fn, space, algo, max_evals, rstate, verbose, pass_expr_memo_ctrl, catch_eval_exceptions, return_argmin)\u001b[0m\n\u001b[0;32m    633\u001b[0m             \u001b[0mpass_expr_memo_ctrl\u001b[0m\u001b[1;33m=\u001b[0m\u001b[0mpass_expr_memo_ctrl\u001b[0m\u001b[1;33m,\u001b[0m\u001b[1;33m\u001b[0m\u001b[0m\n\u001b[0;32m    634\u001b[0m             \u001b[0mcatch_eval_exceptions\u001b[0m\u001b[1;33m=\u001b[0m\u001b[0mcatch_eval_exceptions\u001b[0m\u001b[1;33m,\u001b[0m\u001b[1;33m\u001b[0m\u001b[0m\n\u001b[1;32m--> 635\u001b[1;33m             return_argmin=return_argmin)\n\u001b[0m\u001b[0;32m    636\u001b[0m \u001b[1;33m\u001b[0m\u001b[0m\n\u001b[0;32m    637\u001b[0m \u001b[1;33m\u001b[0m\u001b[0m\n",
      "\u001b[1;32md:\\dev\\python36\\lib\\site-packages\\hyperopt\\fmin.py\u001b[0m in \u001b[0;36mfmin\u001b[1;34m(fn, space, algo, max_evals, trials, rstate, allow_trials_fmin, pass_expr_memo_ctrl, catch_eval_exceptions, verbose, return_argmin, points_to_evaluate, max_queue_len)\u001b[0m\n\u001b[0;32m    383\u001b[0m                     max_queue_len=max_queue_len)\n\u001b[0;32m    384\u001b[0m     \u001b[0mrval\u001b[0m\u001b[1;33m.\u001b[0m\u001b[0mcatch_eval_exceptions\u001b[0m \u001b[1;33m=\u001b[0m \u001b[0mcatch_eval_exceptions\u001b[0m\u001b[1;33m\u001b[0m\u001b[0m\n\u001b[1;32m--> 385\u001b[1;33m     \u001b[0mrval\u001b[0m\u001b[1;33m.\u001b[0m\u001b[0mexhaust\u001b[0m\u001b[1;33m(\u001b[0m\u001b[1;33m)\u001b[0m\u001b[1;33m\u001b[0m\u001b[0m\n\u001b[0m\u001b[0;32m    386\u001b[0m     \u001b[1;32mif\u001b[0m \u001b[0mreturn_argmin\u001b[0m\u001b[1;33m:\u001b[0m\u001b[1;33m\u001b[0m\u001b[0m\n\u001b[0;32m    387\u001b[0m         \u001b[1;32mreturn\u001b[0m \u001b[0mtrials\u001b[0m\u001b[1;33m.\u001b[0m\u001b[0margmin\u001b[0m\u001b[1;33m\u001b[0m\u001b[0m\n",
      "\u001b[1;32md:\\dev\\python36\\lib\\site-packages\\hyperopt\\fmin.py\u001b[0m in \u001b[0;36mexhaust\u001b[1;34m(self)\u001b[0m\n\u001b[0;32m    242\u001b[0m     \u001b[1;32mdef\u001b[0m \u001b[0mexhaust\u001b[0m\u001b[1;33m(\u001b[0m\u001b[0mself\u001b[0m\u001b[1;33m)\u001b[0m\u001b[1;33m:\u001b[0m\u001b[1;33m\u001b[0m\u001b[0m\n\u001b[0;32m    243\u001b[0m         \u001b[0mn_done\u001b[0m \u001b[1;33m=\u001b[0m \u001b[0mlen\u001b[0m\u001b[1;33m(\u001b[0m\u001b[0mself\u001b[0m\u001b[1;33m.\u001b[0m\u001b[0mtrials\u001b[0m\u001b[1;33m)\u001b[0m\u001b[1;33m\u001b[0m\u001b[0m\n\u001b[1;32m--> 244\u001b[1;33m         \u001b[0mself\u001b[0m\u001b[1;33m.\u001b[0m\u001b[0mrun\u001b[0m\u001b[1;33m(\u001b[0m\u001b[0mself\u001b[0m\u001b[1;33m.\u001b[0m\u001b[0mmax_evals\u001b[0m \u001b[1;33m-\u001b[0m \u001b[0mn_done\u001b[0m\u001b[1;33m,\u001b[0m \u001b[0mblock_until_done\u001b[0m\u001b[1;33m=\u001b[0m\u001b[0mself\u001b[0m\u001b[1;33m.\u001b[0m\u001b[0masynchronous\u001b[0m\u001b[1;33m)\u001b[0m\u001b[1;33m\u001b[0m\u001b[0m\n\u001b[0m\u001b[0;32m    245\u001b[0m         \u001b[0mself\u001b[0m\u001b[1;33m.\u001b[0m\u001b[0mtrials\u001b[0m\u001b[1;33m.\u001b[0m\u001b[0mrefresh\u001b[0m\u001b[1;33m(\u001b[0m\u001b[1;33m)\u001b[0m\u001b[1;33m\u001b[0m\u001b[0m\n\u001b[0;32m    246\u001b[0m         \u001b[1;32mreturn\u001b[0m \u001b[0mself\u001b[0m\u001b[1;33m\u001b[0m\u001b[0m\n",
      "\u001b[1;32md:\\dev\\python36\\lib\\site-packages\\hyperopt\\fmin.py\u001b[0m in \u001b[0;36mrun\u001b[1;34m(self, N, block_until_done)\u001b[0m\n\u001b[0;32m    216\u001b[0m             \u001b[1;32melse\u001b[0m\u001b[1;33m:\u001b[0m\u001b[1;33m\u001b[0m\u001b[0m\n\u001b[0;32m    217\u001b[0m                 \u001b[1;31m# -- loop over trials and do the jobs directly\u001b[0m\u001b[1;33m\u001b[0m\u001b[1;33m\u001b[0m\u001b[0m\n\u001b[1;32m--> 218\u001b[1;33m                 \u001b[0mself\u001b[0m\u001b[1;33m.\u001b[0m\u001b[0mserial_evaluate\u001b[0m\u001b[1;33m(\u001b[0m\u001b[1;33m)\u001b[0m\u001b[1;33m\u001b[0m\u001b[0m\n\u001b[0m\u001b[0;32m    219\u001b[0m \u001b[1;33m\u001b[0m\u001b[0m\n\u001b[0;32m    220\u001b[0m             \u001b[1;32mif\u001b[0m \u001b[0mstopped\u001b[0m\u001b[1;33m:\u001b[0m\u001b[1;33m\u001b[0m\u001b[0m\n",
      "\u001b[1;32md:\\dev\\python36\\lib\\site-packages\\hyperopt\\fmin.py\u001b[0m in \u001b[0;36mserial_evaluate\u001b[1;34m(self, N)\u001b[0m\n\u001b[0;32m    135\u001b[0m                 \u001b[0mctrl\u001b[0m \u001b[1;33m=\u001b[0m \u001b[0mbase\u001b[0m\u001b[1;33m.\u001b[0m\u001b[0mCtrl\u001b[0m\u001b[1;33m(\u001b[0m\u001b[0mself\u001b[0m\u001b[1;33m.\u001b[0m\u001b[0mtrials\u001b[0m\u001b[1;33m,\u001b[0m \u001b[0mcurrent_trial\u001b[0m\u001b[1;33m=\u001b[0m\u001b[0mtrial\u001b[0m\u001b[1;33m)\u001b[0m\u001b[1;33m\u001b[0m\u001b[0m\n\u001b[0;32m    136\u001b[0m                 \u001b[1;32mtry\u001b[0m\u001b[1;33m:\u001b[0m\u001b[1;33m\u001b[0m\u001b[0m\n\u001b[1;32m--> 137\u001b[1;33m                     \u001b[0mresult\u001b[0m \u001b[1;33m=\u001b[0m \u001b[0mself\u001b[0m\u001b[1;33m.\u001b[0m\u001b[0mdomain\u001b[0m\u001b[1;33m.\u001b[0m\u001b[0mevaluate\u001b[0m\u001b[1;33m(\u001b[0m\u001b[0mspec\u001b[0m\u001b[1;33m,\u001b[0m \u001b[0mctrl\u001b[0m\u001b[1;33m)\u001b[0m\u001b[1;33m\u001b[0m\u001b[0m\n\u001b[0m\u001b[0;32m    138\u001b[0m                 \u001b[1;32mexcept\u001b[0m \u001b[0mException\u001b[0m \u001b[1;32mas\u001b[0m \u001b[0me\u001b[0m\u001b[1;33m:\u001b[0m\u001b[1;33m\u001b[0m\u001b[0m\n\u001b[0;32m    139\u001b[0m                     \u001b[0mlogger\u001b[0m\u001b[1;33m.\u001b[0m\u001b[0minfo\u001b[0m\u001b[1;33m(\u001b[0m\u001b[1;34m'job exception: %s'\u001b[0m \u001b[1;33m%\u001b[0m \u001b[0mstr\u001b[0m\u001b[1;33m(\u001b[0m\u001b[0me\u001b[0m\u001b[1;33m)\u001b[0m\u001b[1;33m)\u001b[0m\u001b[1;33m\u001b[0m\u001b[0m\n",
      "\u001b[1;32md:\\dev\\python36\\lib\\site-packages\\hyperopt\\base.py\u001b[0m in \u001b[0;36mevaluate\u001b[1;34m(self, config, ctrl, attach_attachments)\u001b[0m\n\u001b[0;32m    838\u001b[0m                 \u001b[0mmemo\u001b[0m\u001b[1;33m=\u001b[0m\u001b[0mmemo\u001b[0m\u001b[1;33m,\u001b[0m\u001b[1;33m\u001b[0m\u001b[0m\n\u001b[0;32m    839\u001b[0m                 print_node_on_error=self.rec_eval_print_node_on_error)\n\u001b[1;32m--> 840\u001b[1;33m             \u001b[0mrval\u001b[0m \u001b[1;33m=\u001b[0m \u001b[0mself\u001b[0m\u001b[1;33m.\u001b[0m\u001b[0mfn\u001b[0m\u001b[1;33m(\u001b[0m\u001b[0mpyll_rval\u001b[0m\u001b[1;33m)\u001b[0m\u001b[1;33m\u001b[0m\u001b[0m\n\u001b[0m\u001b[0;32m    841\u001b[0m \u001b[1;33m\u001b[0m\u001b[0m\n\u001b[0;32m    842\u001b[0m         \u001b[1;32mif\u001b[0m \u001b[0misinstance\u001b[0m\u001b[1;33m(\u001b[0m\u001b[0mrval\u001b[0m\u001b[1;33m,\u001b[0m \u001b[1;33m(\u001b[0m\u001b[0mfloat\u001b[0m\u001b[1;33m,\u001b[0m \u001b[0mint\u001b[0m\u001b[1;33m,\u001b[0m \u001b[0mnp\u001b[0m\u001b[1;33m.\u001b[0m\u001b[0mnumber\u001b[0m\u001b[1;33m)\u001b[0m\u001b[1;33m)\u001b[0m\u001b[1;33m:\u001b[0m\u001b[1;33m\u001b[0m\u001b[0m\n",
      "\u001b[1;32m<ipython-input-61-c29bb45405c2>\u001b[0m in \u001b[0;36mf\u001b[1;34m(params)\u001b[0m\n\u001b[0;32m     32\u001b[0m \u001b[1;33m\u001b[0m\u001b[0m\n\u001b[0;32m     33\u001b[0m     \u001b[0mwindow\u001b[0m \u001b[1;33m=\u001b[0m \u001b[0mparams\u001b[0m\u001b[1;33m[\u001b[0m\u001b[1;34m'window'\u001b[0m\u001b[1;33m]\u001b[0m\u001b[1;33m\u001b[0m\u001b[0m\n\u001b[1;32m---> 34\u001b[1;33m     \u001b[0mval\u001b[0m \u001b[1;33m=\u001b[0m \u001b[0mrun_backtest\u001b[0m\u001b[1;33m(\u001b[0m\u001b[0mconfig\u001b[0m\u001b[1;33m,\u001b[0m \u001b[0mtrading_data\u001b[0m\u001b[1;33m,\u001b[0m \u001b[0mohlc_data\u001b[0m\u001b[1;33m,\u001b[0m \u001b[0mwindow\u001b[0m\u001b[1;33m)\u001b[0m\u001b[1;33m\u001b[0m\u001b[0m\n\u001b[0m\u001b[0;32m     35\u001b[0m     \u001b[1;32mreturn\u001b[0m \u001b[1;33m{\u001b[0m\u001b[1;34m'loss'\u001b[0m\u001b[1;33m:\u001b[0m \u001b[0mval\u001b[0m\u001b[1;33m,\u001b[0m \u001b[1;34m'status'\u001b[0m\u001b[1;33m:\u001b[0m \u001b[0mSTATUS_OK\u001b[0m\u001b[1;33m}\u001b[0m\u001b[1;33m\u001b[0m\u001b[0m\n",
      "\u001b[1;32m<ipython-input-34-367325220d7b>\u001b[0m in \u001b[0;36mrun_backtest\u001b[1;34m(config, trading_data, ohlc_data, window)\u001b[0m\n\u001b[0;32m     17\u001b[0m                         data_handler= data_handler)\n\u001b[0;32m     18\u001b[0m \u001b[1;33m\u001b[0m\u001b[0m\n\u001b[1;32m---> 19\u001b[1;33m     \u001b[0mresults\u001b[0m \u001b[1;33m=\u001b[0m \u001b[0mbacktest\u001b[0m\u001b[1;33m.\u001b[0m\u001b[0mstart_trading\u001b[0m\u001b[1;33m(\u001b[0m\u001b[1;33m)\u001b[0m\u001b[1;33m\u001b[0m\u001b[0m\n\u001b[0m\u001b[0;32m     20\u001b[0m \u001b[1;33m\u001b[0m\u001b[0m\n\u001b[0;32m     21\u001b[0m     \u001b[1;31m# dict_ans = {\u001b[0m\u001b[1;33m\u001b[0m\u001b[1;33m\u001b[0m\u001b[0m\n",
      "\u001b[1;32mD:\\Dev\\test\\backtest\\Backtest\\backtest.py\u001b[0m in \u001b[0;36mstart_trading\u001b[1;34m(self)\u001b[0m\n\u001b[0;32m    216\u001b[0m         '''\n\u001b[0;32m    217\u001b[0m         \u001b[0mself\u001b[0m\u001b[1;33m.\u001b[0m\u001b[0m_run_backtest\u001b[0m\u001b[1;33m(\u001b[0m\u001b[1;33m)\u001b[0m\u001b[1;33m\u001b[0m\u001b[0m\n\u001b[1;32m--> 218\u001b[1;33m         \u001b[0mresults\u001b[0m \u001b[1;33m=\u001b[0m \u001b[0mself\u001b[0m\u001b[1;33m.\u001b[0m\u001b[0m_output_performance\u001b[0m\u001b[1;33m(\u001b[0m\u001b[1;33m)\u001b[0m\u001b[1;33m\u001b[0m\u001b[0m\n\u001b[0m\u001b[0;32m    219\u001b[0m         \u001b[1;32mreturn\u001b[0m \u001b[0mresults\u001b[0m\u001b[1;33m\u001b[0m\u001b[0m\n\u001b[0;32m    220\u001b[0m \u001b[1;33m\u001b[0m\u001b[0m\n",
      "\u001b[1;32mD:\\Dev\\test\\backtest\\Backtest\\backtest.py\u001b[0m in \u001b[0;36m_output_performance\u001b[1;34m(self)\u001b[0m\n\u001b[0;32m    182\u001b[0m \u001b[1;33m\u001b[0m\u001b[0m\n\u001b[0;32m    183\u001b[0m         \u001b[1;31m# calculating the backtest results\u001b[0m\u001b[1;33m\u001b[0m\u001b[1;33m\u001b[0m\u001b[0m\n\u001b[1;32m--> 184\u001b[1;33m         \u001b[0mresults\u001b[0m \u001b[1;33m=\u001b[0m \u001b[0mself\u001b[0m\u001b[1;33m.\u001b[0m\u001b[0mperformance\u001b[0m\u001b[1;33m.\u001b[0m\u001b[0mget_results\u001b[0m\u001b[1;33m(\u001b[0m\u001b[1;33m)\u001b[0m\u001b[1;33m\u001b[0m\u001b[0m\n\u001b[0m\u001b[0;32m    185\u001b[0m         \u001b[0mself\u001b[0m\u001b[1;33m.\u001b[0m\u001b[0mcompliance\u001b[0m\u001b[1;33m.\u001b[0m\u001b[0mrecord_results\u001b[0m\u001b[1;33m(\u001b[0m\u001b[0mresults\u001b[0m\u001b[1;33m)\u001b[0m\u001b[1;33m\u001b[0m\u001b[0m\n\u001b[0;32m    186\u001b[0m \u001b[1;33m\u001b[0m\u001b[0m\n",
      "\u001b[1;32mD:\\Dev\\test\\backtest\\Backtest\\performance.py\u001b[0m in \u001b[0;36mget_results\u001b[1;34m(self)\u001b[0m\n\u001b[0;32m    121\u001b[0m         \u001b[1;31m# Rolling Monthly Sharpe\u001b[0m\u001b[1;33m\u001b[0m\u001b[1;33m\u001b[0m\u001b[0m\n\u001b[0;32m    122\u001b[0m         \u001b[0mMonthly_periods\u001b[0m \u001b[1;33m=\u001b[0m \u001b[1;36m30\u001b[0m\u001b[1;33m\u001b[0m\u001b[0m\n\u001b[1;32m--> 123\u001b[1;33m         \u001b[0mrolling\u001b[0m \u001b[1;33m=\u001b[0m \u001b[0mres_daily_returns\u001b[0m\u001b[1;33m.\u001b[0m\u001b[0mrolling\u001b[0m\u001b[1;33m(\u001b[0m\u001b[0mwindow\u001b[0m \u001b[1;33m=\u001b[0m \u001b[0mMonthly_periods\u001b[0m\u001b[1;33m)\u001b[0m\u001b[1;33m\u001b[0m\u001b[0m\n\u001b[0m\u001b[0;32m    124\u001b[0m         res_rolling_sharpe = np.sqrt(Monthly_periods) * (\n\u001b[0;32m    125\u001b[0m             \u001b[0mrolling\u001b[0m\u001b[1;33m.\u001b[0m\u001b[0mmean\u001b[0m\u001b[1;33m(\u001b[0m\u001b[1;33m)\u001b[0m\u001b[1;33m.\u001b[0m\u001b[0mdropna\u001b[0m\u001b[1;33m(\u001b[0m\u001b[1;33m)\u001b[0m \u001b[1;33m/\u001b[0m \u001b[0mrolling\u001b[0m\u001b[1;33m.\u001b[0m\u001b[0mstd\u001b[0m\u001b[1;33m(\u001b[0m\u001b[1;33m)\u001b[0m\u001b[1;33m.\u001b[0m\u001b[0mdropna\u001b[0m\u001b[1;33m(\u001b[0m\u001b[1;33m)\u001b[0m\u001b[1;33m\u001b[0m\u001b[0m\n",
      "\u001b[1;32mD:\\Dev\\test\\backtest\\Backtest\\performance.py\u001b[0m in \u001b[0;36m_create_drawdown\u001b[1;34m(self, cum_returns)\u001b[0m\n\u001b[0;32m     45\u001b[0m \u001b[1;33m\u001b[0m\u001b[0m\n\u001b[0;32m     46\u001b[0m         \u001b[1;32mfor\u001b[0m \u001b[0mi\u001b[0m \u001b[1;32min\u001b[0m \u001b[0mrange\u001b[0m\u001b[1;33m(\u001b[0m\u001b[1;36m1\u001b[0m\u001b[1;33m,\u001b[0m \u001b[0mlen\u001b[0m\u001b[1;33m(\u001b[0m\u001b[0midx\u001b[0m\u001b[1;33m)\u001b[0m\u001b[1;33m)\u001b[0m\u001b[1;33m:\u001b[0m\u001b[1;33m\u001b[0m\u001b[0m\n\u001b[1;32m---> 47\u001b[1;33m             \u001b[0mhwm\u001b[0m\u001b[1;33m[\u001b[0m\u001b[0mi\u001b[0m\u001b[1;33m]\u001b[0m \u001b[1;33m=\u001b[0m \u001b[0mmax\u001b[0m\u001b[1;33m(\u001b[0m\u001b[0mhwm\u001b[0m\u001b[1;33m[\u001b[0m\u001b[0mi\u001b[0m\u001b[1;33m-\u001b[0m\u001b[1;36m1\u001b[0m\u001b[1;33m]\u001b[0m\u001b[1;33m,\u001b[0m \u001b[0mcum_returns\u001b[0m\u001b[1;33m.\u001b[0m\u001b[0miloc\u001b[0m\u001b[1;33m[\u001b[0m\u001b[0mi\u001b[0m\u001b[1;33m]\u001b[0m\u001b[1;33m)\u001b[0m\u001b[1;33m\u001b[0m\u001b[0m\n\u001b[0m\u001b[0;32m     48\u001b[0m \u001b[1;33m\u001b[0m\u001b[0m\n\u001b[0;32m     49\u001b[0m         \u001b[0mdd\u001b[0m \u001b[1;33m=\u001b[0m \u001b[0mpd\u001b[0m\u001b[1;33m.\u001b[0m\u001b[0mDataFrame\u001b[0m\u001b[1;33m(\u001b[0m\u001b[0mindex\u001b[0m \u001b[1;33m=\u001b[0m \u001b[0midx\u001b[0m\u001b[1;33m)\u001b[0m\u001b[1;33m\u001b[0m\u001b[0m\n",
      "\u001b[1;32md:\\dev\\python36\\lib\\site-packages\\pandas\\core\\indexing.py\u001b[0m in \u001b[0;36m__getitem__\u001b[1;34m(self, key)\u001b[0m\n\u001b[0;32m   1371\u001b[0m \u001b[1;33m\u001b[0m\u001b[0m\n\u001b[0;32m   1372\u001b[0m             \u001b[0mmaybe_callable\u001b[0m \u001b[1;33m=\u001b[0m \u001b[0mcom\u001b[0m\u001b[1;33m.\u001b[0m\u001b[0m_apply_if_callable\u001b[0m\u001b[1;33m(\u001b[0m\u001b[0mkey\u001b[0m\u001b[1;33m,\u001b[0m \u001b[0mself\u001b[0m\u001b[1;33m.\u001b[0m\u001b[0mobj\u001b[0m\u001b[1;33m)\u001b[0m\u001b[1;33m\u001b[0m\u001b[0m\n\u001b[1;32m-> 1373\u001b[1;33m             \u001b[1;32mreturn\u001b[0m \u001b[0mself\u001b[0m\u001b[1;33m.\u001b[0m\u001b[0m_getitem_axis\u001b[0m\u001b[1;33m(\u001b[0m\u001b[0mmaybe_callable\u001b[0m\u001b[1;33m,\u001b[0m \u001b[0maxis\u001b[0m\u001b[1;33m=\u001b[0m\u001b[0maxis\u001b[0m\u001b[1;33m)\u001b[0m\u001b[1;33m\u001b[0m\u001b[0m\n\u001b[0m\u001b[0;32m   1374\u001b[0m \u001b[1;33m\u001b[0m\u001b[0m\n\u001b[0;32m   1375\u001b[0m     \u001b[1;32mdef\u001b[0m \u001b[0m_is_scalar_access\u001b[0m\u001b[1;33m(\u001b[0m\u001b[0mself\u001b[0m\u001b[1;33m,\u001b[0m \u001b[0mkey\u001b[0m\u001b[1;33m)\u001b[0m\u001b[1;33m:\u001b[0m\u001b[1;33m\u001b[0m\u001b[0m\n",
      "\u001b[1;32md:\\dev\\python36\\lib\\site-packages\\pandas\\core\\indexing.py\u001b[0m in \u001b[0;36m_getitem_axis\u001b[1;34m(self, key, axis)\u001b[0m\n\u001b[0;32m   1821\u001b[0m         \u001b[1;31m# a single integer\u001b[0m\u001b[1;33m\u001b[0m\u001b[1;33m\u001b[0m\u001b[0m\n\u001b[0;32m   1822\u001b[0m         \u001b[1;32melse\u001b[0m\u001b[1;33m:\u001b[0m\u001b[1;33m\u001b[0m\u001b[0m\n\u001b[1;32m-> 1823\u001b[1;33m             \u001b[0mkey\u001b[0m \u001b[1;33m=\u001b[0m \u001b[0mself\u001b[0m\u001b[1;33m.\u001b[0m\u001b[0m_convert_scalar_indexer\u001b[0m\u001b[1;33m(\u001b[0m\u001b[0mkey\u001b[0m\u001b[1;33m,\u001b[0m \u001b[0maxis\u001b[0m\u001b[1;33m)\u001b[0m\u001b[1;33m\u001b[0m\u001b[0m\n\u001b[0m\u001b[0;32m   1824\u001b[0m \u001b[1;33m\u001b[0m\u001b[0m\n\u001b[0;32m   1825\u001b[0m             \u001b[1;32mif\u001b[0m \u001b[1;32mnot\u001b[0m \u001b[0mis_integer\u001b[0m\u001b[1;33m(\u001b[0m\u001b[0mkey\u001b[0m\u001b[1;33m)\u001b[0m\u001b[1;33m:\u001b[0m\u001b[1;33m\u001b[0m\u001b[0m\n",
      "\u001b[1;32md:\\dev\\python36\\lib\\site-packages\\pandas\\core\\indexing.py\u001b[0m in \u001b[0;36m_convert_scalar_indexer\u001b[1;34m(self, key, axis)\u001b[0m\n\u001b[0;32m    252\u001b[0m         \u001b[1;32mif\u001b[0m \u001b[0maxis\u001b[0m \u001b[1;32mis\u001b[0m \u001b[1;32mNone\u001b[0m\u001b[1;33m:\u001b[0m\u001b[1;33m\u001b[0m\u001b[0m\n\u001b[0;32m    253\u001b[0m             \u001b[0maxis\u001b[0m \u001b[1;33m=\u001b[0m \u001b[1;36m0\u001b[0m\u001b[1;33m\u001b[0m\u001b[0m\n\u001b[1;32m--> 254\u001b[1;33m         \u001b[0max\u001b[0m \u001b[1;33m=\u001b[0m \u001b[0mself\u001b[0m\u001b[1;33m.\u001b[0m\u001b[0mobj\u001b[0m\u001b[1;33m.\u001b[0m\u001b[0m_get_axis\u001b[0m\u001b[1;33m(\u001b[0m\u001b[0mmin\u001b[0m\u001b[1;33m(\u001b[0m\u001b[0maxis\u001b[0m\u001b[1;33m,\u001b[0m \u001b[0mself\u001b[0m\u001b[1;33m.\u001b[0m\u001b[0mndim\u001b[0m \u001b[1;33m-\u001b[0m \u001b[1;36m1\u001b[0m\u001b[1;33m)\u001b[0m\u001b[1;33m)\u001b[0m\u001b[1;33m\u001b[0m\u001b[0m\n\u001b[0m\u001b[0;32m    255\u001b[0m         \u001b[1;31m# a scalar\u001b[0m\u001b[1;33m\u001b[0m\u001b[1;33m\u001b[0m\u001b[0m\n\u001b[0;32m    256\u001b[0m         \u001b[1;32mreturn\u001b[0m \u001b[0max\u001b[0m\u001b[1;33m.\u001b[0m\u001b[0m_convert_scalar_indexer\u001b[0m\u001b[1;33m(\u001b[0m\u001b[0mkey\u001b[0m\u001b[1;33m,\u001b[0m \u001b[0mkind\u001b[0m\u001b[1;33m=\u001b[0m\u001b[0mself\u001b[0m\u001b[1;33m.\u001b[0m\u001b[0mname\u001b[0m\u001b[1;33m)\u001b[0m\u001b[1;33m\u001b[0m\u001b[0m\n",
      "\u001b[1;32md:\\dev\\python36\\lib\\site-packages\\pandas\\core\\generic.py\u001b[0m in \u001b[0;36m_get_axis\u001b[1;34m(self, axis)\u001b[0m\n\u001b[0;32m    371\u001b[0m \u001b[1;33m\u001b[0m\u001b[0m\n\u001b[0;32m    372\u001b[0m     \u001b[1;32mdef\u001b[0m \u001b[0m_get_axis\u001b[0m\u001b[1;33m(\u001b[0m\u001b[0mself\u001b[0m\u001b[1;33m,\u001b[0m \u001b[0maxis\u001b[0m\u001b[1;33m)\u001b[0m\u001b[1;33m:\u001b[0m\u001b[1;33m\u001b[0m\u001b[0m\n\u001b[1;32m--> 373\u001b[1;33m         \u001b[0mname\u001b[0m \u001b[1;33m=\u001b[0m \u001b[0mself\u001b[0m\u001b[1;33m.\u001b[0m\u001b[0m_get_axis_name\u001b[0m\u001b[1;33m(\u001b[0m\u001b[0maxis\u001b[0m\u001b[1;33m)\u001b[0m\u001b[1;33m\u001b[0m\u001b[0m\n\u001b[0m\u001b[0;32m    374\u001b[0m         \u001b[1;32mreturn\u001b[0m \u001b[0mgetattr\u001b[0m\u001b[1;33m(\u001b[0m\u001b[0mself\u001b[0m\u001b[1;33m,\u001b[0m \u001b[0mname\u001b[0m\u001b[1;33m)\u001b[0m\u001b[1;33m\u001b[0m\u001b[0m\n\u001b[0;32m    375\u001b[0m \u001b[1;33m\u001b[0m\u001b[0m\n",
      "\u001b[1;32md:\\dev\\python36\\lib\\site-packages\\pandas\\core\\generic.py\u001b[0m in \u001b[0;36m_get_axis_name\u001b[1;34m(self, axis)\u001b[0m\n\u001b[0;32m    368\u001b[0m                 \u001b[1;32mpass\u001b[0m\u001b[1;33m\u001b[0m\u001b[0m\n\u001b[0;32m    369\u001b[0m         raise ValueError('No axis named {0} for object type {1}'\n\u001b[1;32m--> 370\u001b[1;33m                          .format(axis, type(self)))\n\u001b[0m\u001b[0;32m    371\u001b[0m \u001b[1;33m\u001b[0m\u001b[0m\n\u001b[0;32m    372\u001b[0m     \u001b[1;32mdef\u001b[0m \u001b[0m_get_axis\u001b[0m\u001b[1;33m(\u001b[0m\u001b[0mself\u001b[0m\u001b[1;33m,\u001b[0m \u001b[0maxis\u001b[0m\u001b[1;33m)\u001b[0m\u001b[1;33m:\u001b[0m\u001b[1;33m\u001b[0m\u001b[0m\n",
      "\u001b[1;31mValueError\u001b[0m: No axis named 0 for object type <class 'pandas.core.series.Series'>"
     ]
    }
   ],
   "source": [
    "best = fmin(fn=f, space=space, algo=tpe.suggest, max_evals=50, trials=trials)"
   ]
  },
  {
   "cell_type": "code",
   "execution_count": null,
   "metadata": {},
   "outputs": [],
   "source": [
    "best"
   ]
  },
  {
   "cell_type": "code",
   "execution_count": 55,
   "metadata": {
    "scrolled": true
   },
   "outputs": [
    {
     "name": "stdout",
     "output_type": "stream",
     "text": [
      "{'window': [100]} \t 0.10759190914800765\n",
      "{'window': [99]} \t 0.1464413221134172\n",
      "{'window': [100]} \t 0.10759190914800765\n",
      "{'window': [63]} \t -0.28861610008870486\n",
      "{'window': [17]} \t 0.23722166176645765\n",
      "{'window': [6]} \t 0.8161731480997687\n",
      "{'window': [26]} \t -0.2106075542751471\n",
      "{'window': [20]} \t 0.06280960551796166\n",
      "{'window': [71]} \t -0.3071649146557496\n",
      "{'window': [12]} \t 0.46732789605848624\n",
      "{'window': [22]} \t -0.402899967942004\n",
      "{'window': [51]} \t 0.004060071026982914\n",
      "{'window': [16]} \t 0.4062076493527862\n",
      "{'window': [45]} \t 0.043089195720073636\n",
      "{'window': [45]} \t 0.043089195720073636\n",
      "{'window': [64]} \t -0.30264192403492096\n",
      "{'window': [75]} \t -0.014049795132911491\n",
      "{'window': [7]} \t 0.6755656423563767\n",
      "{'window': [34]} \t 0.15405783516451654\n",
      "{'window': [98]} \t 0.11097611918587091\n",
      "{'window': [79]} \t 0.176816286629484\n",
      "{'window': [71]} \t -0.3071649146557496\n"
     ]
    },
    {
     "ename": "KeyError",
     "evalue": "'loss'",
     "output_type": "error",
     "traceback": [
      "\u001b[1;31m---------------------------------------------------------------------------\u001b[0m",
      "\u001b[1;31mKeyError\u001b[0m                                  Traceback (most recent call last)",
      "\u001b[1;32m<ipython-input-55-5f3a4ff12e81>\u001b[0m in \u001b[0;36m<module>\u001b[1;34m()\u001b[0m\n\u001b[0;32m      1\u001b[0m \u001b[1;32mfor\u001b[0m \u001b[0mtrial\u001b[0m \u001b[1;32min\u001b[0m \u001b[0mtrials\u001b[0m\u001b[1;33m.\u001b[0m\u001b[0mtrials\u001b[0m\u001b[1;33m:\u001b[0m\u001b[1;33m\u001b[0m\u001b[0m\n\u001b[1;32m----> 2\u001b[1;33m     \u001b[0mprint\u001b[0m\u001b[1;33m(\u001b[0m\u001b[0mtrial\u001b[0m\u001b[1;33m[\u001b[0m\u001b[1;34m'misc'\u001b[0m\u001b[1;33m]\u001b[0m\u001b[1;33m[\u001b[0m\u001b[1;34m'vals'\u001b[0m\u001b[1;33m]\u001b[0m\u001b[1;33m,\u001b[0m \u001b[1;34m\"\\t\"\u001b[0m\u001b[1;33m,\u001b[0m\u001b[0mtrial\u001b[0m\u001b[1;33m[\u001b[0m\u001b[1;34m'result'\u001b[0m\u001b[1;33m]\u001b[0m\u001b[1;33m[\u001b[0m\u001b[1;34m'loss'\u001b[0m\u001b[1;33m]\u001b[0m\u001b[1;33m)\u001b[0m\u001b[1;33m\u001b[0m\u001b[0m\n\u001b[0m",
      "\u001b[1;31mKeyError\u001b[0m: 'loss'"
     ]
    }
   ],
   "source": [
    "for trial in trials.trials:\n",
    "    print(trial['misc']['vals'], \"\\t\",trial['result']['loss'])"
   ]
  },
  {
   "cell_type": "code",
   "execution_count": null,
   "metadata": {
    "scrolled": false
   },
   "outputs": [],
   "source": [
    "config = {\n",
    "    \"csv_dir\": \"./Binance\",\n",
    "    \"out_dir\": \"./results/AOStrategy\",\n",
    "    \"title\": \"AOStrategy\",\n",
    "    \"is_plot\": True,\n",
    "    \"save_plot\": True,\n",
    "    \"save_tradelog\": True,\n",
    "    \"start_date\": pd.Timestamp(\"2018-04-01T00:0:00\", freq = \"60\" + \"T\"),    # str(freq) + \"T\"\n",
    "    \"end_date\": pd.Timestamp(\"2018-08-01T00:00:00\", freq = \"60\" + \"T\"),\n",
    "    \"equity\": 1.0,\n",
    "    \"freq\": 60,      # min\n",
    "    \"commission_ratio\": 0.001,\n",
    "    \"suggested_quantity\": None,     # None or a value\n",
    "    \"max_quantity\": None,           # None or a value, Maximum purchase quantity\n",
    "    \"min_quantity\": None,           # None or a value, Minimum purchase quantity\n",
    "    \"min_handheld_cash\": None,      # None or a value, Minimum handheld funds\n",
    "    \"exchange\": \"Binance\",\n",
    "    \"tickers\": ['BTCUSDT']\n",
    "}\n",
    "ohlc_data = {}\n",
    "for ticker in config['tickers']:\n",
    "    # ohlc_data[ticker] = generate_bars(trading_data, ticker, config['freq'])\n",
    "    ohlc_data[ticker] = pd.read_hdf(config['csv_dir'] + '\\\\' + ticker +'_OHLC_60min.h5', key=ticker)\n",
    "\n",
    "trading_data = None\n",
    "run_backtest(config,ohlc_data,ohlc_data,53)"
   ]
  },
  {
   "cell_type": "code",
   "execution_count": 21,
   "metadata": {},
   "outputs": [
    {
     "data": {
      "text/plain": [
       "<matplotlib.collections.LineCollection at 0x26ebca0a2b0>"
      ]
     },
     "execution_count": 21,
     "metadata": {},
     "output_type": "execute_result"
    },
    {
     "data": {
      "image/png": "[encoded data removed]",
      "text/plain": [
       "<Figure size 1152x576 with 2 Axes>"
      ]
     },
     "metadata": {},
     "output_type": "display_data"
    }
   ],
   "source": [
    "f, ax = plt.subplots(1,2, figsize = (16, 8))\n",
    "xs = [t['misc']['vals']['window'] for t in trials.trials]\n",
    "ys = [-1 * t['result']['loss'] for t in trials.trials]\n",
    "ax[0].scatter(xs, ys, s=20, linewidth=0.01, alpha=0.75)\n",
    "ax[0].set_title('$val$ $vs$ $_window$ ', fontsize=18)\n",
    "ax[0].set_xlabel('$_window$', fontsize=16)\n",
    "ax[0].set_ylabel('$val$', fontsize=16)\n",
    "ax[0].hlines(0, 0, 120, color='black',linestyle=\"--\")\n",
    "ax[0].hlines(-1, 0, 120, color='black',linestyle=\"--\")\n",
    "ax[0].hlines(1, 0, 120, color='black',linestyle=\"--\")\n",
    "ax[0].vlines(best['window'], -1.2, 2, color='blue',linestyle=\"--\")"
   ]
  },
  {
   "cell_type": "code",
   "execution_count": null,
   "metadata": {},
   "outputs": [],
   "source": [
    "f, ax = plt.subplots(1,2, figsize = (16, 8))\n",
    "xs = [t['misc']['vals']['window'] for t in trials.trials]\n",
    "ys = [-1 * t['result']['loss'] for t in trials.trials]\n",
    "ax[0].scatter(xs, ys, s=20, linewidth=0.01, alpha=0.75)\n",
    "ax[0].set_title('$val$ $vs$ $_window$ ', fontsize=18)\n",
    "ax[0].set_xlabel('$_window$', fontsize=16)\n",
    "ax[0].set_ylabel('$val$', fontsize=16)\n",
    "ax[0].hlines(0, 0, 120, color='black',linestyle=\"--\")\n",
    "ax[0].hlines(-1, 0, 120, color='black',linestyle=\"--\")\n",
    "ax[0].hlines(1, 0, 120, color='black',linestyle=\"--\")\n",
    "ax[0].vlines(best['window'], -1.2, 2, color='blue',linestyle=\"--\")"
   ]
  }
 ],
 "metadata": {
  "kernelspec": {
   "display_name": "Python 3",
   "language": "python",
   "name": "python3"
  },
  "language_info": {
   "codemirror_mode": {
    "name": "ipython",
    "version": 3
   },
   "file_extension": ".py",
   "mimetype": "text/x-python",
   "name": "python",
   "nbconvert_exporter": "python",
   "pygments_lexer": "ipython3",
   "version": "3.6.4"
  }
 },
 "nbformat": 4,
 "nbformat_minor": 2
}
