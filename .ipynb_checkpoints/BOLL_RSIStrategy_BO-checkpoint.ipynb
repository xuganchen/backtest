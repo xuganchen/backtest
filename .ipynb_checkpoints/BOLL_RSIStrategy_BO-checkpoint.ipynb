{
 "cells": [
  {
   "cell_type": "code",
   "execution_count": 1,
   "metadata": {},
   "outputs": [],
   "source": [
    "import numpy as np\n",
    "import pandas as pd\n",
    "import queue\n",
    "import matplotlib.pyplot as plt\n",
    "\n",
    "from BayesianOptimization.bayesian_optimization import BayesianOptimization\n",
    "\n",
    "from Backtest.backtest import Backtest\n",
    "from Backtest.data import OHLCDataHandler\n",
    "from BOLL_RSIStrategy import BOLL_RSIStrategy\n",
    "from Backtest.open_json_gz_files import open_json_gz_files\n",
    "from Backtest.generate_bars import generate_bars"
   ]
  },
  {
   "cell_type": "code",
   "execution_count": 2,
   "metadata": {},
   "outputs": [],
   "source": [
    "def run_backtest(config, trading_data, ohlc_data, window_BOLL, a, window_RSI, s, b):\n",
    "    window_BOLL = int(window_BOLL)\n",
    "    window_RSI = int(window_RSI)\n",
    "    s = int(s)\n",
    "    b = int(b)\n",
    "    config['title'] = \"BOLL_RSIStrategy\" + \"_\" + str(window_BOLL) + \"_\" + str(a) + \"_\" + str(window_RSI) + \"_\" + str(s) + \"_\" + str(b)\n",
    "    print(\"---------------------------------\")\n",
    "    print(config['title'])\n",
    "    print(\"---------------------------------\")\n",
    "\n",
    "\n",
    "    events_queue = queue.Queue()\n",
    "    data_handler = OHLCDataHandler(\n",
    "        config, events_queue,\n",
    "        trading_data = trading_data, ohlc_data = ohlc_data\n",
    "    )\n",
    "\n",
    "    strategy = BOLL_RSIStrategy(config, events_queue, data_handler,\n",
    "                            window_BOLL = window_BOLL, a = a,\n",
    "                            window_RSI=window_RSI, s=s, b=b)\n",
    "\n",
    "    backtest = Backtest(config, events_queue, strategy,\n",
    "                        data_handler= data_handler)\n",
    "\n",
    "    results = backtest.start_trading()\n",
    "    \n",
    "    return (results['cum_returns'][-1] - 1)"
   ]
  },
  {
   "cell_type": "markdown",
   "metadata": {},
   "source": [
    "## Setting"
   ]
  },
  {
   "cell_type": "code",
   "execution_count": 3,
   "metadata": {},
   "outputs": [],
   "source": [
    "config = {\n",
    "    \"csv_dir\": \"C:/backtest/Binance\",\n",
    "    \"out_dir\": \"C:/backtest/results/BOLL_RSIStrategy\",\n",
    "    \"title\": \"BOLL_RSIStrategy\",\n",
    "    \"is_plot\": False,\n",
    "    \"save_plot\": False,\n",
    "    \"save_tradelog\": False,\n",
    "    \"start_date\": pd.Timestamp(\"2017-07-01T00:0:00\", freq = \"60\" + \"T\"),    # str(freq) + \"T\"\n",
    "    \"end_date\": pd.Timestamp(\"2018-04-01T00:00:00\", freq = \"60\" + \"T\"),\n",
    "    \"equity\": 1.0,\n",
    "    \"freq\": 60,      # min\n",
    "    \"commission_ratio\": 0.001,\n",
    "    \"suggested_quantity\": None,     # None or a value\n",
    "    \"max_quantity\": None,           # None or a value, Maximum purchase quantity\n",
    "    \"min_quantity\": None,           # None or a value, Minimum purchase quantity\n",
    "    \"min_handheld_cash\": None,      # None or a value, Minimum handheld funds\n",
    "    \"exchange\": \"Binance\",\n",
    "    \"tickers\": ['BTCUSDT']\n",
    "}"
   ]
  },
  {
   "cell_type": "code",
   "execution_count": 4,
   "metadata": {},
   "outputs": [],
   "source": [
    "# trading_data = {}\n",
    "# for ticker in config['tickers']:\n",
    "#     # trading_data[ticker] = open_gz_files(config['csv_dir'], ticker)\n",
    "#     trading_data[ticker] = pd.read_hdf(config['csv_dir'] + '\\\\' + ticker + '.h5', key=ticker)\n",
    "\n",
    "ohlc_data = {}\n",
    "for ticker in config['tickers']:\n",
    "    # ohlc_data[ticker] = generate_bars(trading_data, ticker, config['freq'])\n",
    "    ohlc_data[ticker] = pd.read_hdf(config['csv_dir'] + '\\\\' + ticker +'_OHLC_60min.h5', key=ticker)\n",
    "\n",
    "trading_data = None"
   ]
  },
  {
   "cell_type": "code",
   "execution_count": 5,
   "metadata": {},
   "outputs": [],
   "source": [
    "gp_params = {\"alpha\": 1e-5}"
   ]
  },
  {
   "cell_type": "markdown",
   "metadata": {},
   "source": [
    "## Acquisition Function \"Upper Confidence Bound\""
   ]
  },
  {
   "cell_type": "markdown",
   "metadata": {},
   "source": [
    "* Prefer exploitation (kappa=1.0)\n",
    "\n",
    "* Prefer exploration (kappa=10)\n"
   ]
  },
  {
   "cell_type": "markdown",
   "metadata": {},
   "source": [
    "## Acquisition Function \"Expected Improvement\""
   ]
  },
  {
   "cell_type": "markdown",
   "metadata": {},
   "source": [
    "* Prefer exploitation (xi=1e-4)\n",
    "* Prefer exploration (xi=0.1)"
   ]
  },
  {
   "cell_type": "code",
   "execution_count": null,
   "metadata": {},
   "outputs": [],
   "source": [
    "print(BO.res['max'])"
   ]
  },
  {
   "cell_type": "code",
   "execution_count": null,
   "metadata": {},
   "outputs": [],
   "source": [
    "BO.maximize(init_points=0, n_iter=120, acq=\"ei\", xi=0.0001, **gp_params)"
   ]
  },
  {
   "cell_type": "code",
   "execution_count": null,
   "metadata": {},
   "outputs": [],
   "source": [
    "print(BO.res['max'])"
   ]
  },
  {
   "cell_type": "code",
   "execution_count": null,
   "metadata": {},
   "outputs": [],
   "source": [
    "Target = pd.DataFrame({'Parameters': BO.X.tolist(), 'Target': BO.Y})\n",
    "# Target.to_csv(config['out_dir'] + \"/target_ei.csv\")\n",
    "Target.sort_values(by = \"Target\")"
   ]
  },
  {
   "cell_type": "markdown",
   "metadata": {},
   "source": [
    "## Acquisition Function \"Probability of Improvement\""
   ]
  },
  {
   "cell_type": "markdown",
   "metadata": {},
   "source": [
    "* Prefer exploitation (xi=1e-4)\n",
    "* Prefer exploration (xi=0.1)"
   ]
  }
 ],
 "metadata": {
  "kernelspec": {
   "display_name": "Python 3",
   "language": "python",
   "name": "python3"
  },
  "language_info": {
   "codemirror_mode": {
    "name": "ipython",
    "version": 3
   },
   "file_extension": ".py",
   "mimetype": "text/x-python",
   "name": "python",
   "nbconvert_exporter": "python",
   "pygments_lexer": "ipython3",
   "version": "3.6.5"
  }
 },
 "nbformat": 4,
 "nbformat_minor": 2
}
