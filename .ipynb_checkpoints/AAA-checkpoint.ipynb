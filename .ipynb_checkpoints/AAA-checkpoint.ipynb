{
 "cells": [
  {
   "cell_type": "code",
   "execution_count": 1,
   "metadata": {},
   "outputs": [
    {
     "name": "stdout",
     "output_type": "stream",
     "text": [
      "---------------------------------\n",
      "ADXStrategy_18\n",
      "---------------------------------\n",
      "Data Time Interval for BTCUSDT:\n",
      "\tStart Date\t: 2017-10-27 22:00:00\n",
      "\tEnd Date\t: 2018-08-07 23:00:00\n",
      "---------------------------------\n",
      "Running Backtest...\n",
      "---------------------------------\n",
      "---------------------------------\n",
      "Backtest complete.\n",
      "---------------------------------\n",
      "Sharpe Ratio: 1.3046656106\n",
      "Sortino Ratio: 2.4377693124\n",
      "Information Ratio: 0.3222570376\n",
      "Max Drawdown: 0.4445662135\n",
      "Max Drawdown Duration: 356400\n",
      "Total Returns: 0.7143331248\n",
      "Annualized Returns: 0.9179343074\n",
      "Compound Annual Growth Rate: 0.9990224719\n",
      "---------------------------------\n",
      "Trades: 267\n",
      "Trade Winning: 37.45%\n",
      "Average Trade: 0.49%\n",
      "Average Win: 3.66%\n",
      "Average Loss: -1.41%\n",
      "Best Trade: 31.97%\n",
      "Worst Trade: -13.33%\n",
      "Worst Trade Date: 0 days 04:00:00\n",
      "Avg Days in Trade: 0 days 11:51:01\n",
      "---------------------------------\n"
     ]
    },
    {
     "data": {
      "text/plain": [
       "<Figure size 1000x2100 with 8 Axes>"
      ]
     },
     "metadata": {},
     "output_type": "display_data"
    }
   ],
   "source": [
    "import numpy as np\n",
    "import pandas as pd\n",
    "import queue\n",
    "from multiprocessing import Pool\n",
    "import os\n",
    "\n",
    "from Backtest.strategy import Strategy\n",
    "from Backtest.event import EventType\n",
    "from Backtest.backtest import Backtest\n",
    "from Backtest.data import OHLCDataHandler\n",
    "from Backtest.open_json_gz_files import open_json_gz_files\n",
    "from Backtest.generate_bars import generate_bars\n",
    "\n",
    "\n",
    "class ADXStrategy(Strategy):\n",
    "    def __init__(self, config, events, data_handler,\n",
    "                 window = 10):\n",
    "        self.config = config\n",
    "        self.data_handler = data_handler\n",
    "        self.tickers = self.config['tickers']\n",
    "        self.events = events\n",
    "        self.holdinds = self._calculate_initial_holdings()\n",
    "        self.start_date = self.config['start_date']\n",
    "        self.end_date = self.config['end_date']\n",
    "\n",
    "        self.window = (window - 1) * pd.to_timedelta(str(data_handler.freq) + \"Min\")\n",
    "        self.hd = pd.Series(0, index = data_handler.times[self.start_date: self.end_date])\n",
    "        self.ld = pd.Series(0, index = data_handler.times[self.start_date: self.end_date])\n",
    "\n",
    "    def _calculate_initial_holdings(self):\n",
    "        holdings = {}\n",
    "        for s in self.tickers:\n",
    "            holdings[s] = \"EMPTY\"\n",
    "        return holdings\n",
    "\n",
    "    def _get_hdld(self, bars_high, bars_low, bar_date):\n",
    "        a = bars_high[-1] - bars_high[-2]\n",
    "        b = bars_low[-2] - bars_low[-1]\n",
    "        if a > 0 and a > b:\n",
    "            self.hd[bar_date] = a\n",
    "        else:\n",
    "            self.hd[bar_date] = 0\n",
    "        if b > 0 and b > a:\n",
    "            self.ld[bar_date] = b\n",
    "        else:\n",
    "            self.ld[bar_date] = 0\n",
    "\n",
    "        hd_mean = np.mean(self.hd[bar_date - self.window: bar_date])\n",
    "        ld_mean = np.mean(self.ld[bar_date - self.window: bar_date])\n",
    "        return hd_mean, ld_mean\n",
    "\n",
    "    def generate_signals(self, event):\n",
    "        if event.type == EventType.MARKET:\n",
    "            ticker = event.ticker\n",
    "            bar_date = event.timestamp\n",
    "            bars_high = self.data_handler.get_latest_bars_values(ticker, \"high\", N = 2)\n",
    "            bars_low = self.data_handler.get_latest_bars_values(ticker, \"low\", N = 2)\n",
    "\n",
    "            if len(bars_high) > 1:\n",
    "                hd_mean, ld_mean = self._get_hdld(bars_high, bars_low, bar_date)\n",
    "                if hd_mean - ld_mean > 0 and self.holdinds[ticker] == \"EMPTY\":\n",
    "                    self.generate_buy_signals(ticker, bar_date, \"LONG\")\n",
    "                    self.holdinds[ticker] = \"HOLD\"\n",
    "                elif hd_mean - ld_mean < 0 and self.holdinds[ticker] == \"HOLD\":\n",
    "                    self.generate_sell_signals(ticker, bar_date, \"SHORT\")\n",
    "                    self.holdinds[ticker] = \"EMPTY\"\n",
    "            else:\n",
    "                self.hd[bar_date] = 0\n",
    "                self.ld[bar_date] = 0\n",
    "\n",
    "def run_backtest(config, trading_data, ohlc_data, window = 10):\n",
    "    config['title'] = \"ADXStrategy\" + \"_\" + str(window)\n",
    "    print(\"---------------------------------\")\n",
    "    print(config['title'])\n",
    "    print(\"---------------------------------\")\n",
    "    \n",
    "    events_queue = queue.Queue()\n",
    "\n",
    "    data_handler = OHLCDataHandler(\n",
    "        config, events_queue,\n",
    "        trading_data = trading_data, ohlc_data = ohlc_data\n",
    "    )\n",
    "    strategy = ADXStrategy(config, events_queue, data_handler,\n",
    "                           window = window)\n",
    "\n",
    "    backtest = Backtest(config, events_queue, strategy,\n",
    "                        data_handler= data_handler)\n",
    "\n",
    "    results = backtest.start_trading()\n",
    "    return backtest, results\n",
    "    \n",
    "    # dict_ans = {\n",
    "    #     \"window\": [window],\n",
    "    #     \"Sharpe Ratio\": [results['sharpe']],\n",
    "    #     \"Total Returns\": [(results['cum_returns'][-1] - 1)],\n",
    "    #     \"Max Drawdown\": [(results[\"max_drawdown\"] * 100.0)],\n",
    "    #     \"Max Drawdown Duration\": [(results['max_drawdown_duration'])],\n",
    "    #     \"Trades\": [results['trade_info']['trading_num']],\n",
    "    #     \"Trade Winning\": [results['trade_info']['win_pct']],\n",
    "    #     \"Average Trade\": [results['trade_info']['avg_trd_pct']],\n",
    "    #     \"Average Win\": [results['trade_info']['avg_win_pct']],\n",
    "    #     \"Average Loss\": [results['trade_info']['avg_loss_pct']],\n",
    "    #     \"Best Trade\": [results['trade_info']['max_win_pct']],\n",
    "    #     \"Worst Trade\": [results['trade_info']['max_loss_pct']],\n",
    "    #     \"Worst Trade Date\": [results['trade_info']['max_loss_dt']],\n",
    "    #     \"Avg Days in Trade\": [results['trade_info']['avg_dit']]\n",
    "    # }\n",
    "    # return pd.DataFrame(dict_ans)\n",
    "\n",
    "if __name__ == \"__main__\":\n",
    "    config = {\n",
    "        \"csv_dir\": \"C:/backtest/Binance\",\n",
    "        \"out_dir\": \"C:/backtest/results/ADXStrategy\",\n",
    "        \"title\": \"ADXStrategy\",\n",
    "        \"is_plot\": True,\n",
    "        \"save_plot\": True,\n",
    "        \"save_tradelog\": True,\n",
    "        \"start_date\": pd.Timestamp(\"2017-04-01T00:0:00\", freq = \"60\" + \"T\"),    # str(freq) + \"T\"\n",
    "        \"end_date\": pd.Timestamp(\"2018-09-01T00:00:00\", freq = \"60\" + \"T\"),\n",
    "        \"equity\": 1.0,\n",
    "        \"freq\": 60,      # min\n",
    "        \"commission_ratio\": 0.001,\n",
    "        \"suggested_quantity\": None,     # None or a value\n",
    "        \"max_quantity\": None,           # None or a value, Maximum purchase quantity\n",
    "        \"min_quantity\": None,           # None or a value, Minimum purchase quantity\n",
    "        \"min_handheld_cash\": None,      # None or a value, Minimum handheld funds\n",
    "        \"exchange\": \"Binance\",\n",
    "        \"tickers\": ['BTCUSDT']\n",
    "    }\n",
    "\n",
    "    # trading_data = {}\n",
    "    # for ticker in config['tickers']:\n",
    "    #     # trading_data[ticker] = open_gz_files(config['csv_dir'], ticker)\n",
    "    #     trading_data[ticker] = pd.read_hdf(config['csv_dir'] + '\\\\' + ticker + '.h5', key=ticker)\n",
    "\n",
    "    ohlc_data = {}\n",
    "    for ticker in config['tickers']:\n",
    "        # ohlc_data[ticker] = generate_bars(trading_data, ticker, config['freq'])\n",
    "        ohlc_data[ticker] = pd.read_hdf(config['csv_dir'] + '\\\\' + ticker +'_OHLC_60min.h5', key=ticker)\n",
    "\n",
    "    trading_data = None\n",
    "\n",
    "    backtest, results = run_backtest(config, trading_data, ohlc_data, window = 18)\n",
    "\n",
    "\n",
    "\n",
    "    # interval = np.array([5, 10, 12, 26, 30, 35, 45, 60, 72, 84, 96, 120, 252])\n",
    "    # # interval = np.array([5, 12, 26, 45, 60, 96, 120, 252])\n",
    "    # # interval = np.array([5, 30, 120])\n",
    "    #\n",
    "    # pool = Pool(4)\n",
    "    # results = []\n",
    "    # for i in range(len(interval)):\n",
    "    #     window = interval[i]\n",
    "    #     result = pool.apply_async(run_backtest, args=(config, trading_data, ohlc_data, window,))\n",
    "    #     results.append(result)\n",
    "    #\n",
    "    # ans = pd.DataFrame()\n",
    "    # for results in results:\n",
    "    #     df = results.get()\n",
    "    #     ans = pd.concat([ans, df], ignore_index=True)\n",
    "    # pool.close()\n",
    "    #\n",
    "    # if not os.path.exists(config['out_dir']):\n",
    "    #     os.makedirs(config['out_dir'])\n",
    "    # ans = ans.sort_values(by=\"Total Returns\", ascending=False)\n",
    "    # ans.to_csv(config['out_dir'] + \"/result_ADXStrategy.csv\")"
   ]
  },
  {
   "cell_type": "code",
   "execution_count": null,
   "metadata": {},
   "outputs": [],
   "source": []
  },
  {
   "cell_type": "code",
   "execution_count": null,
   "metadata": {},
   "outputs": [],
   "source": []
  },
  {
   "cell_type": "code",
   "execution_count": null,
   "metadata": {},
   "outputs": [],
   "source": []
  },
  {
   "cell_type": "code",
   "execution_count": null,
   "metadata": {},
   "outputs": [],
   "source": []
  },
  {
   "cell_type": "code",
   "execution_count": 5,
   "metadata": {},
   "outputs": [],
   "source": [
    "mid_time = pd.Timestamp(\"2018-04-01T00:00:00\", freq = \"60\" + \"T\")"
   ]
  },
  {
   "cell_type": "code",
   "execution_count": 7,
   "metadata": {},
   "outputs": [
    {
     "data": {
      "image/png": "[encoded data removed]",
      "text/plain": [
       "<Figure size 432x288 with 1 Axes>"
      ]
     },
     "metadata": {},
     "output_type": "display_data"
    }
   ],
   "source": [
    "backtest.performance.plot_equity_with_BNH(mid_time, stats=results, savefig=True)"
   ]
  },
  {
   "cell_type": "code",
   "execution_count": null,
   "metadata": {},
   "outputs": [],
   "source": []
  },
  {
   "cell_type": "code",
   "execution_count": 7,
   "metadata": {},
   "outputs": [
    {
     "data": {
      "text/plain": [
       "dict"
      ]
     },
     "execution_count": 7,
     "metadata": {},
     "output_type": "execute_result"
    }
   ],
   "source": [
    "type(results)"
   ]
  },
  {
   "cell_type": "code",
   "execution_count": 7,
   "metadata": {},
   "outputs": [],
   "source": [
    "BNH_cum_returns = results['cum_returns']"
   ]
  },
  {
   "cell_type": "code",
   "execution_count": 19,
   "metadata": {},
   "outputs": [],
   "source": [
    "BNH_daily_returns = results['daily_returns']"
   ]
  },
  {
   "cell_type": "code",
   "execution_count": null,
   "metadata": {},
   "outputs": [],
   "source": []
  },
  {
   "cell_type": "code",
   "execution_count": null,
   "metadata": {},
   "outputs": [],
   "source": []
  },
  {
   "cell_type": "code",
   "execution_count": 88,
   "metadata": {},
   "outputs": [
    {
     "name": "stdout",
     "output_type": "stream",
     "text": [
      "---------------------------------\n",
      "ADX_RSIStrategy_36_96_55_45\n",
      "---------------------------------\n",
      "Data Time Interval for BTCUSDT:\n",
      "\tStart Date\t: 2017-10-27 22:00:00\n",
      "\tEnd Date\t: 2018-08-07 23:00:00\n",
      "---------------------------------\n",
      "Running Backtest...\n",
      "---------------------------------\n",
      "---------------------------------\n",
      "Backtest complete.\n",
      "---------------------------------\n",
      "Sharpe Ratio: 1.1803419188\n",
      "Sortino Ratio: 1.1754839372\n",
      "Max Drawdown: 0.1837432820\n",
      "Max Drawdown Duration: 387400\n",
      "Total Returns: 0.2367000741\n",
      "Annualized Returns: 0.3041649771\n",
      "Compound Annual Growth Rate: 0.3138985546\n",
      "---------------------------------\n",
      "Trades: 41\n",
      "Trade Winning: 53.66%\n",
      "Average Trade: 0.79%\n",
      "Average Win: 2.85%\n",
      "Average Loss: -1.60%\n",
      "Best Trade: 13.88%\n",
      "Worst Trade: -3.86%\n",
      "Worst Trade Date: 0 days 10:00:00\n",
      "Avg Days in Trade: 0 days 10:58:32\n",
      "---------------------------------\n"
     ]
    }
   ],
   "source": [
    "import numpy as np\n",
    "import pandas as pd\n",
    "import queue\n",
    "from multiprocessing import Pool\n",
    "import os\n",
    "\n",
    "from Backtest.strategy import Strategy\n",
    "from Backtest.event import EventType\n",
    "from Backtest.backtest import Backtest\n",
    "from Backtest.data import OHLCDataHandler\n",
    "from Backtest.open_json_gz_files import open_json_gz_files\n",
    "from Backtest.generate_bars import generate_bars\n",
    "\n",
    "\n",
    "class ADX_RSIStrategy(Strategy):\n",
    "    def __init__(self, config, events, data_handler,\n",
    "                 window_ADX = 10,\n",
    "                 window_RSI = 10, s=70, b=30):\n",
    "        self.config = config\n",
    "        self.data_handler = data_handler\n",
    "        self.tickers = self.config['tickers']\n",
    "        self.events = events\n",
    "        self.holdinds = self._calculate_initial_holdings()\n",
    "        self.start_date = self.config['start_date']\n",
    "        self.end_date = self.config['end_date']\n",
    "\n",
    "        self.window_ADX = (window_ADX - 1) * pd.to_timedelta(str(data_handler.freq) + \"Min\")\n",
    "        self.hd = pd.Series(0, index = data_handler.times[self.start_date: self.end_date])\n",
    "        self.ld = pd.Series(0, index = data_handler.times[self.start_date: self.end_date])\n",
    "\n",
    "        self.window_RSI = (window_RSI - 1) * pd.to_timedelta(str(data_handler.freq) + \"Min\")\n",
    "        self.s = s\n",
    "        self.b = b\n",
    "\n",
    "        self.updown = pd.Series(0.0, index = data_handler.times[self.start_date: self.end_date])\n",
    "\n",
    "    def _calculate_initial_holdings(self):\n",
    "        holdings = {}\n",
    "        for s in self.tickers:\n",
    "            holdings[s] = \"EMPTY\"\n",
    "        return holdings\n",
    "\n",
    "    def _get_hdld(self, bars_high, bars_low, bar_date):\n",
    "        a = bars_high[-1] - bars_high[-2]\n",
    "        b = bars_low[-2] - bars_low[-1]\n",
    "        if a > 0 and a > b:\n",
    "            self.hd[bar_date] = a\n",
    "        else:\n",
    "            self.hd[bar_date] = 0\n",
    "        if b > 0 and b > a:\n",
    "            self.ld[bar_date] = b\n",
    "        else:\n",
    "            self.ld[bar_date] = 0\n",
    "\n",
    "        hd_mean = np.mean(self.hd[bar_date - self.window_ADX: bar_date])\n",
    "        ld_mean = np.mean(self.ld[bar_date - self.window_ADX: bar_date])\n",
    "        return hd_mean, ld_mean\n",
    "\n",
    "    def generate_signals(self, event):\n",
    "        if event.type == EventType.MARKET:\n",
    "            ticker = event.ticker\n",
    "            bar_date = event.timestamp\n",
    "            bars_high = self.data_handler.get_latest_bars_values(ticker, \"high\", N = 2)\n",
    "            bars_low = self.data_handler.get_latest_bars_values(ticker, \"low\", N = 2)\n",
    "            bars = self.data_handler.get_latest_bars_values(\n",
    "                ticker, \"close\", N=2\n",
    "            )\n",
    "\n",
    "            if len(bars_high) > 1 and len(bars) > 1:\n",
    "                hd_mean, ld_mean = self._get_hdld(bars_high, bars_low, bar_date)\n",
    "\n",
    "                self.updown[bar_date] = bars[-1] - bars[-2]\n",
    "                updown = self.updown[bar_date - self.window_RSI: bar_date]\n",
    "                up = np.sum(updown.loc[updown > 0])\n",
    "                down = -1 * np.sum(updown.loc[updown < 0])\n",
    "                if down == 0:\n",
    "                    RSI = 100\n",
    "                else:\n",
    "                    RSI = 100 - 100 / (1 + up / down)\n",
    "\n",
    "                if (hd_mean - ld_mean > 0 and RSI < self.b) and self.holdinds[ticker] == \"EMPTY\":\n",
    "                    self.generate_buy_signals(ticker, bar_date, \"LONG\")\n",
    "                    self.holdinds[ticker] = \"HOLD\"\n",
    "                elif (hd_mean - ld_mean < 0 or RSI > self.s) and self.holdinds[ticker] == \"HOLD\":\n",
    "                    self.generate_sell_signals(ticker, bar_date, \"SHORT\")\n",
    "                    self.holdinds[ticker] = \"EMPTY\"\n",
    "            else:\n",
    "                self.hd[bar_date] = 0\n",
    "                self.ld[bar_date] = 0\n",
    "\n",
    "def run_backtest(config, trading_data, ohlc_data, window_ADX = 10, window_RSI = 10, s=70, b=30):\n",
    "    config['title'] = \"ADX_RSIStrategy\" + \"_\" + str(window_ADX) + \"_\" + str(window_RSI) + \"_\" + str(s) + \"_\" + str(b)\n",
    "    print(\"---------------------------------\")\n",
    "    print(config['title'])\n",
    "    print(\"---------------------------------\")\n",
    "    \n",
    "    events_queue = queue.Queue()\n",
    "\n",
    "    data_handler = OHLCDataHandler(\n",
    "        config, events_queue,\n",
    "        trading_data = trading_data, ohlc_data = ohlc_data\n",
    "    )\n",
    "    strategy = ADX_RSIStrategy(config, events_queue, data_handler,\n",
    "                           window_ADX = window_ADX,\n",
    "                            window_RSI=window_RSI, s=s, b=b)\n",
    "\n",
    "    backtest = Backtest(config, events_queue, strategy,\n",
    "                        data_handler= data_handler)\n",
    "\n",
    "    results = backtest.start_trading()\n",
    "    return backtest, results\n",
    "    \n",
    "\n",
    "if __name__ == \"__main__\":\n",
    "    config = {\n",
    "        \"csv_dir\": \"C:/backtest/Binance\",\n",
    "        \"out_dir\": \"C:/backtest/results/ADX_RSIStrategy\",\n",
    "        \"title\": \"ADX_RSIStrategy\",\n",
    "        \"is_plot\": False,\n",
    "        \"save_plot\": False,\n",
    "        \"save_tradelog\": False,\n",
    "        \"start_date\": pd.Timestamp(\"2017-04-01T00:0:00\", freq = \"60\" + \"T\"),    # str(freq) + \"T\"\n",
    "        \"end_date\": pd.Timestamp(\"2019-09-01T00:00:00\", freq = \"60\" + \"T\"),\n",
    "        \"equity\": 1.0,\n",
    "        \"freq\": 60,      # min\n",
    "        \"commission_ratio\": 0.001,\n",
    "        \"suggested_quantity\": None,     # None or a value\n",
    "        \"max_quantity\": None,           # None or a value, Maximum purchase quantity\n",
    "        \"min_quantity\": None,           # None or a value, Minimum purchase quantity\n",
    "        \"min_handheld_cash\": None,      # None or a value, Minimum handheld funds\n",
    "        \"exchange\": \"Binance\",\n",
    "        \"tickers\": ['BTCUSDT']\n",
    "    }\n",
    "\n",
    "    # trading_data = {}\n",
    "    # for ticker in config['tickers']:\n",
    "    #     # trading_data[ticker] = open_gz_files(config['csv_dir'], ticker)\n",
    "    #     trading_data[ticker] = pd.read_hdf(config['csv_dir'] + '\\\\' + ticker + '.h5', key=ticker)\n",
    "\n",
    "    ohlc_data = {}\n",
    "    for ticker in config['tickers']:\n",
    "        # ohlc_data[ticker] = generate_bars(trading_data, ticker, config['freq'])\n",
    "        ohlc_data[ticker] = pd.read_hdf(config['csv_dir'] + '\\\\' + ticker +'_OHLC_60min.h5', key=ticker)\n",
    "\n",
    "    trading_data = None\n",
    "\n",
    "    backtest, results = run_backtest(config, trading_data, ohlc_data, window_ADX = 36, window_RSI = 96, s=55, b=45)\n",
    "\n",
    "\n"
   ]
  },
  {
   "cell_type": "code",
   "execution_count": 27,
   "metadata": {},
   "outputs": [
    {
     "ename": "SyntaxError",
     "evalue": "invalid syntax (<ipython-input-27-e2d315e1d361>, line 1)",
     "output_type": "error",
     "traceback": [
      "\u001b[1;36m  File \u001b[1;32m\"<ipython-input-27-e2d315e1d361>\"\u001b[1;36m, line \u001b[1;32m1\u001b[0m\n\u001b[1;33m    \"is_plot\": False,\u001b[0m\n\u001b[1;37m                    ^\u001b[0m\n\u001b[1;31mSyntaxError\u001b[0m\u001b[1;31m:\u001b[0m invalid syntax\n"
     ]
    }
   ],
   "source": [
    "        \"is_plot\": False,\n",
    "        \"save_plot\": False,\n",
    "        \"save_tradelog\": False,\n",
    "        \"start_date\": pd.Timestamp(\"2017-04-01T00:0:00\", freq = \"60\" + \"T\"),    # str(freq) + \"T\"\n",
    "        \"end_date\": pd.Timestamp(\"2019-09-01T00:00:00\", freq = \"60\" + \"T\"),"
   ]
  },
  {
   "cell_type": "code",
   "execution_count": 89,
   "metadata": {},
   "outputs": [],
   "source": [
    "cum_returns = results['cum_returns']"
   ]
  },
  {
   "cell_type": "code",
   "execution_count": 90,
   "metadata": {},
   "outputs": [
    {
     "data": {
      "image/png": "[encoded data removed]",
      "text/plain": [
       "<Figure size 432x288 with 1 Axes>"
      ]
     },
     "metadata": {},
     "output_type": "display_data"
    }
   ],
   "source": [
    "plot_cum_returns(config, cum_returns, BNH_cum_returns, x1_label=config['title'], x2_label='Buy and Hold Strategy')"
   ]
  },
  {
   "cell_type": "code",
   "execution_count": null,
   "metadata": {},
   "outputs": [],
   "source": []
  },
  {
   "cell_type": "code",
   "execution_count": null,
   "metadata": {},
   "outputs": [],
   "source": []
  },
  {
   "cell_type": "code",
   "execution_count": null,
   "metadata": {},
   "outputs": [],
   "source": []
  },
  {
   "cell_type": "code",
   "execution_count": null,
   "metadata": {},
   "outputs": [],
   "source": []
  },
  {
   "cell_type": "code",
   "execution_count": null,
   "metadata": {},
   "outputs": [],
   "source": []
  },
  {
   "cell_type": "code",
   "execution_count": 16,
   "metadata": {},
   "outputs": [],
   "source": [
    "daily_returns = results['daily_returns']"
   ]
  },
  {
   "cell_type": "code",
   "execution_count": 20,
   "metadata": {},
   "outputs": [],
   "source": [
    "IR_returns = daily_returns - BNH_daily_returns"
   ]
  },
  {
   "cell_type": "code",
   "execution_count": 21,
   "metadata": {},
   "outputs": [],
   "source": [
    "IR = np.sqrt(365) * np.mean(IR_returns) / np.std(IR_returns)"
   ]
  },
  {
   "cell_type": "code",
   "execution_count": 22,
   "metadata": {},
   "outputs": [
    {
     "data": {
      "text/plain": [
       "0.32225703762066327"
      ]
     },
     "execution_count": 22,
     "metadata": {},
     "output_type": "execute_result"
    }
   ],
   "source": [
    "IR"
   ]
  },
  {
   "cell_type": "code",
   "execution_count": null,
   "metadata": {},
   "outputs": [],
   "source": []
  },
  {
   "cell_type": "code",
   "execution_count": 13,
   "metadata": {},
   "outputs": [],
   "source": [
    "import matplotlib.pyplot as plt\n",
    "from matplotlib.ticker import FuncFormatter\n",
    "import matplotlib.dates as mdates\n",
    "from datetime import datetime\n",
    "\n",
    "def plot_cum_returns(config, x1, x2, x1_label=None, x2_label=None):\n",
    "    fig, ax = plt.subplots()\n",
    "    def format_two_dec(x, pos):\n",
    "        return '%.2f' % x\n",
    "    y_axis_formatter = FuncFormatter(format_two_dec)\n",
    "    ax.yaxis.set_major_formatter(FuncFormatter(y_axis_formatter))\n",
    "    ax.xaxis.set_tick_params(reset=True)\n",
    "    ax.yaxis.grid(linestyle=':')\n",
    "    ax.xaxis.set_major_locator(mdates.YearLocator(1))\n",
    "    ax.xaxis.set_major_formatter(mdates.DateFormatter('%Y'))\n",
    "    ax.xaxis.grid(linestyle=':')\n",
    "\n",
    "    x1.plot(lw=1, color='blue', alpha=0.6, x_compat=False,\n",
    "                    label=x1_label, ax=ax)\n",
    "    x2.plot(lw=1, color='green', alpha=0.6, x_compat=False,\n",
    "                    label=x2_label, ax=ax)\n",
    "\n",
    "    ax.axhline(1.0, linestyle='--', color='red', lw=1)\n",
    "    \n",
    "    mid_time = pd.Timestamp(\"2018-04-01T00:00:00\", freq = \"60\" + \"T\")\n",
    "    end_time = x1.index[-1]\n",
    "    ax.axvline(mid_time, linestyle='--', color='red', lw=1)\n",
    "    ax.axhline(x1[mid_time], linestyle='--', color='blue', lw=0.5)\n",
    "    ax.axhline(x1[end_time], linestyle='--', color='blue', lw=0.5)\n",
    "    ax.axhline(x2[mid_time], linestyle='--', color='green', lw=0.5)\n",
    "    ax.axhline(x2[end_time], linestyle='--', color='green', lw=0.5)\n",
    "    \n",
    "    \n",
    "    ax.set_ylabel('Cumulative returns')\n",
    "    ax.legend(loc='best')\n",
    "    ax.set_xlabel('')\n",
    "    plt.setp(ax.get_xticklabels(), visible=True, rotation=0, ha='center')\n",
    "    plt.show()\n",
    "    \n",
    "    now = datetime.utcnow()\n",
    "    title = config['title'] + \"_\" + \"cum_returns\"\n",
    "    filename = out_dir + \"\\\\\" + title + \"_\" + now.strftime(\"%Y-%m-%d_%H%M%S\") + \".png\"\n",
    "    fig.savefig(filename, dpi=150, bbox_inches='tight')"
   ]
  },
  {
   "cell_type": "code",
   "execution_count": 75,
   "metadata": {},
   "outputs": [
    {
     "data": {
      "image/png": "[encoded data removed]",
      "text/plain": [
       "<Figure size 432x288 with 1 Axes>"
      ]
     },
     "metadata": {},
     "output_type": "display_data"
    }
   ],
   "source": []
  },
  {
   "cell_type": "code",
   "execution_count": null,
   "metadata": {},
   "outputs": [],
   "source": []
  }
 ],
 "metadata": {
  "kernelspec": {
   "display_name": "Python 3",
   "language": "python",
   "name": "python3"
  },
  "language_info": {
   "codemirror_mode": {
    "name": "ipython",
    "version": 3
   },
   "file_extension": ".py",
   "mimetype": "text/x-python",
   "name": "python",
   "nbconvert_exporter": "python",
   "pygments_lexer": "ipython3",
   "version": "3.6.5"
  }
 },
 "nbformat": 4,
 "nbformat_minor": 2
}
