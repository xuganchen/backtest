{
 "cells": [
  {
   "cell_type": "code",
   "execution_count": 8,
   "metadata": {},
   "outputs": [],
   "source": [
    "\n",
    "from multiprocessing import Pool\n",
    "import numpy as np\n",
    "import pandas as pd\n",
    "import queue\n",
    "import os\n",
    "\n",
    "from Backtest.strategy import Strategy\n",
    "from Backtest.event import EventType\n",
    "from Backtest.backtest import Backtest\n",
    "from Backtest.data import OHLCDataHandler\n",
    "from Backtest.portfolio import PortfolioHandler\n",
    "from Backtest.open_json_gz_files import open_json_gz_files\n",
    "from Backtest.generate_bars import generate_bars\n"
   ]
  },
  {
   "cell_type": "code",
   "execution_count": 9,
   "metadata": {},
   "outputs": [],
   "source": [
    "config = {\n",
    "    \"csv_dir\": \"C:/backtest/Binance\",\n",
    "    \"out_dir\": \"C:/backtest/results/MOMStrategy\",\n",
    "    \"title\": \"MOMStrategy\",\n",
    "    \"is_plot\": True,\n",
    "    \"save_plot\": True,\n",
    "    \"save_tradelog\": True,\n",
    "    \"start_date\": pd.Timestamp(\"2018-01-01T00:0:00\", freq=\"60\" + \"T\"),  # str(freq) + \"T\"\n",
    "    \"end_date\": pd.Timestamp(\"2018-09-01T00:00:00\", freq=\"60\" + \"T\"),\n",
    "    \"equity\": 1.0,\n",
    "    \"freq\": 60,  # min\n",
    "    \"commission_ratio\": 0.002,\n",
    "    \"suggested_quantity\": None,     # None or a value\n",
    "    \"max_quantity\": None,           # None or a value, Maximum purchase quantity\n",
    "    \"min_quantity\": None,           # None or a value, Minimum purchase quantity\n",
    "    \"min_handheld_cash\": None,      # None or a value, Minimum handheld funds\n",
    "    \"exchange\": \"Binance\",\n",
    "    \"tickers\": ['BTCUSDT', 'CMTBNB', 'CMTBTC', 'CMTETH', \n",
    "                'ETHUSDT', 'LTCUSDT', 'VENBNB', #  'EOSUSDT' 'XRPUSDT'\n",
    "               'VENBTC', 'VENETH']\n",
    "}"
   ]
  },
  {
   "cell_type": "code",
   "execution_count": 10,
   "metadata": {},
   "outputs": [],
   "source": [
    "# trading_data = {}\n",
    "# for ticker in config['tickers']:\n",
    "#     # trading_data[ticker] = open_gz_files(config['csv_dir'], ticker)\n",
    "#     trading_data[ticker] = pd.read_hdf(config['csv_dir'] + '\\\\' + ticker + '.h5', key=ticker)\n",
    "\n",
    "ohlc_data = {}\n",
    "for ticker in config['tickers']:\n",
    "    # ohlc_data[ticker] = generate_bars(trading_data, ticker, config['freq'])\n",
    "    ohlc_data[ticker] = pd.read_hdf(config['csv_dir'] + '\\\\' + ticker +'_OHLC_60min.h5', key=ticker)\n",
    "\n",
    "trading_data = None"
   ]
  },
  {
   "cell_type": "code",
   "execution_count": 11,
   "metadata": {},
   "outputs": [],
   "source": [
    "class MOMStrategy(Strategy):\n",
    "    def __init__(self, config, events, data_handler, portfolio_handler,\n",
    "                 window = 10, num = 3, rev = 0):  \n",
    "        # rev = 0: buy first num, rev = 1: buy last num\n",
    "        self.config = config\n",
    "        self.data_handler = data_handler\n",
    "        self.portfolio_handler = portfolio_handler\n",
    "        self.tickers = self.config['tickers']\n",
    "        self.events = events\n",
    "        self.holdinds = self._calculate_initial_holdings()\n",
    "        \n",
    "        self.bar_date = None\n",
    "        self.window = window\n",
    "        self.num = num\n",
    "        self.rev = rev\n",
    "        self.MOM_tickers = {}\n",
    "        self.REV_tickers = {}\n",
    "\n",
    "    def _calculate_initial_holdings(self):\n",
    "        holdings = {}\n",
    "        for s in self.tickers:\n",
    "            holdings[s] = \"EMPTY\"\n",
    "        return holdings\n",
    "    \n",
    "    def generate_signals(self, event):\n",
    "        if event.type == EventType.MARKET:\n",
    "            bar_date = event.timestamp\n",
    "            if self.bar_date == bar_date:\n",
    "                pass\n",
    "            else:\n",
    "                self.bar_date = bar_date\n",
    "                bars = {}\n",
    "                for ticker in self.tickers:\n",
    "                    bars[ticker] = self.data_handler.get_latest_bars_values(\n",
    "                                    ticker, \"close\", N=self.window\n",
    "                                    )\n",
    "                bars = pd.DataFrame(bars)\n",
    "\n",
    "                change = (bars.iloc[-1,:] - bars.iloc[0,:]) / bars.iloc[0,:]\n",
    "                change = change.sort_values(ascending= False)\n",
    "                \n",
    "                current_tickers = self.portfolio_handler.current_tickers\n",
    "                cash_for_order = self.portfolio_handler.cash_for_order\n",
    "                \n",
    "                \n",
    "                MOM_tickers = change.iloc[:self.num].keys()\n",
    "                REV_tickers = change.iloc[-self.num:].keys()\n",
    "                self.MOM_tickers[bar_date] = MOM_tickers\n",
    "                self.REV_tickers[bar_date] = REV_tickers\n",
    "                \n",
    "                \n",
    "                if self.rev == 0:\n",
    "                    \n",
    "                    for ticker in current_tickers:\n",
    "                        if ticker not in MOM_tickers:\n",
    "                            self.generate_sell_signals(ticker, bar_date, \"SHORT\")\n",
    "                            quantity = self.portfolio_handler.current_tickers_info[ticker]['quantity']\n",
    "                            event_price = bars.loc[len(bars) - 1, ticker]\n",
    "                            cash_for_order += (event_price * quantity) * (1-self.portfolio_handler.commission_ratio)\n",
    "                    \n",
    "                    MOM_num = sum([ticker not in current_tickers for ticker in MOM_tickers])\n",
    "                    if MOM_num != 0:\n",
    "                        suggested_cash = cash_for_order / MOM_num\n",
    "                        for ticker in MOM_tickers:\n",
    "                            if ticker not in current_tickers:\n",
    "                                self.generate_buy_signals(ticker, bar_date, \"LONG\", suggested_cash = suggested_cash)\n",
    "                    \n",
    "                elif self.rev == 1:\n",
    "                    REV_tickers = change.iloc[-self.num:].keys()\n",
    "                    REV_num = sum([ticker in self.portfolio_handler.current_tickers for ticker in REV_tickers])\n",
    "                    pass"
   ]
  },
  {
   "cell_type": "code",
   "execution_count": 12,
   "metadata": {},
   "outputs": [],
   "source": [
    "events_queue = queue.Queue()"
   ]
  },
  {
   "cell_type": "code",
   "execution_count": 13,
   "metadata": {},
   "outputs": [
    {
     "name": "stdout",
     "output_type": "stream",
     "text": [
      "Data Time Interval for BTCUSDT:\n",
      "\tStart Date\t: 2018-01-01 00:00:00\n",
      "\tEnd Date\t: 2018-08-07 23:00:00\n",
      "Data Time Interval for CMTBNB:\n",
      "\tStart Date\t: 2018-01-01 00:00:00\n",
      "\tEnd Date\t: 2018-08-07 23:00:00\n",
      "Data Time Interval for CMTBTC:\n",
      "\tStart Date\t: 2018-01-01 00:00:00\n",
      "\tEnd Date\t: 2018-08-07 23:00:00\n",
      "Data Time Interval for CMTETH:\n",
      "\tStart Date\t: 2018-01-01 00:00:00\n",
      "\tEnd Date\t: 2018-08-07 23:00:00\n",
      "Data Time Interval for ETHUSDT:\n",
      "\tStart Date\t: 2018-01-01 00:00:00\n",
      "\tEnd Date\t: 2018-08-07 23:00:00\n",
      "Data Time Interval for LTCUSDT:\n",
      "\tStart Date\t: 2018-01-01 00:00:00\n",
      "\tEnd Date\t: 2018-08-07 23:00:00\n",
      "Data Time Interval for VENBNB:\n",
      "\tStart Date\t: 2018-01-01 00:00:00\n",
      "\tEnd Date\t: 2018-07-23 03:00:00\n",
      "Data Time Interval for VENBTC:\n",
      "\tStart Date\t: 2018-01-01 00:00:00\n",
      "\tEnd Date\t: 2018-07-23 03:00:00\n",
      "Data Time Interval for VENETH:\n",
      "\tStart Date\t: 2018-01-01 00:00:00\n",
      "\tEnd Date\t: 2018-07-23 03:00:00\n"
     ]
    }
   ],
   "source": [
    "data_handler = OHLCDataHandler(\n",
    "    config, events_queue,\n",
    "    trading_data = trading_data, ohlc_data = ohlc_data\n",
    ")"
   ]
  },
  {
   "cell_type": "code",
   "execution_count": 14,
   "metadata": {},
   "outputs": [],
   "source": [
    "portfolio_handler = PortfolioHandler(\n",
    "    config, data_handler, events_queue\n",
    ")"
   ]
  },
  {
   "cell_type": "code",
   "execution_count": 15,
   "metadata": {},
   "outputs": [],
   "source": [
    "strategy = MOMStrategy(config, events_queue, data_handler, portfolio_handler,\n",
    "                         window = 10, num = 4, rev = 0)  "
   ]
  },
  {
   "cell_type": "code",
   "execution_count": 16,
   "metadata": {},
   "outputs": [],
   "source": [
    "backtest = Backtest(config, events_queue, strategy,\n",
    "                    data_handler= data_handler, portfolio_handler = portfolio_handler)"
   ]
  },
  {
   "cell_type": "code",
   "execution_count": null,
   "metadata": {},
   "outputs": [
    {
     "name": "stdout",
     "output_type": "stream",
     "text": [
      "---------------------------------\n",
      "Running Backtest...\n",
      "---------------------------------\n"
     ]
    }
   ],
   "source": [
    "results = backtest.start_trading()"
   ]
  },
  {
   "cell_type": "code",
   "execution_count": null,
   "metadata": {},
   "outputs": [],
   "source": []
  },
  {
   "cell_type": "code",
   "execution_count": null,
   "metadata": {},
   "outputs": [],
   "source": [
    "sum(results['positions']['commission_buy'])"
   ]
  },
  {
   "cell_type": "code",
   "execution_count": null,
   "metadata": {},
   "outputs": [],
   "source": [
    "sum(results['positions']['commission_sell'])"
   ]
  },
  {
   "cell_type": "code",
   "execution_count": null,
   "metadata": {},
   "outputs": [],
   "source": [
    "sum(results['positions']['earning'])"
   ]
  },
  {
   "cell_type": "code",
   "execution_count": null,
   "metadata": {},
   "outputs": [],
   "source": [
    "results['cum_returns'].to_csv(config['out_dir'] + \"\\\\cum_returns.csv\")"
   ]
  },
  {
   "cell_type": "code",
   "execution_count": null,
   "metadata": {},
   "outputs": [],
   "source": [
    "backtest.strategy.MOM_tickers"
   ]
  }
 ],
 "metadata": {
  "kernelspec": {
   "display_name": "Python 3",
   "language": "python",
   "name": "python3"
  },
  "language_info": {
   "codemirror_mode": {
    "name": "ipython",
    "version": 3
   },
   "file_extension": ".py",
   "mimetype": "text/x-python",
   "name": "python",
   "nbconvert_exporter": "python",
   "pygments_lexer": "ipython3",
   "version": "3.6.5"
  }
 },
 "nbformat": 4,
 "nbformat_minor": 2
}
